{
 "cells": [
  {
   "cell_type": "code",
   "execution_count": 4,
   "metadata": {},
   "outputs": [],
   "source": [
    "# Imports.\n",
    "\n",
    "import os\n",
    "import json\n",
    "import gzip\n",
    "import urllib.request\n",
    "from urllib.request import urlopen\n",
    "import numpy as np\n",
    "import pandas as pd\n",
    "import matplotlib.pyplot as plt\n",
    "import seaborn as sns\n",
    "from sklearn.metrics import mean_squared_error\n",
    "from sklearn.linear_model import LinearRegression, RidgeCV, LassoCV\n",
    "from sklearn.svm import SVR\n",
    "from sklearn.ensemble import RandomForestRegressor, GradientBoostingRegressor, AdaBoostRegressor\n",
    "from sklearn.feature_extraction.text import CountVectorizer\n",
    "from sklearn.preprocessing import OneHotEncoder\n",
    "from sklearn.preprocessing import StandardScaler\n",
    "from sklearn.compose import ColumnTransformer\n",
    "from sklearn.impute import SimpleImputer\n",
    "from sklearn.decomposition import PCA\n",
    "from sklearn import model_selection\n",
    "\n",
    "pd.options.mode.chained_assignment = None"
   ]
  },
  {
   "cell_type": "markdown",
   "metadata": {},
   "source": [
    "## Data Sampling and Collection"
   ]
  },
  {
   "cell_type": "markdown",
   "metadata": {},
   "source": [
    "This dataset contains product reviews and metadata from Amazon, including reviews spanning May 1996 - July 2014.\n",
    "This dataset includes reviews (ratings, text, helpfulness votes), product metadata (descriptions, category information, price, brand, and image features), and links (also viewed/also bought graphs). "
   ]
  },
  {
   "cell_type": "markdown",
   "metadata": {},
   "source": [
    "### Download and load the data into dataframes:"
   ]
  },
  {
   "cell_type": "markdown",
   "metadata": {},
   "source": [
    "Utility functions:"
   ]
  },
  {
   "cell_type": "code",
   "execution_count": 120,
   "metadata": {},
   "outputs": [],
   "source": [
    "def load_data(url, filename):\n",
    "    if not os.path.exists(filename):\n",
    "        urllib.request.urlretrieve(url,filename)\n",
    "        \n",
    "    # Load the data.\n",
    "    data = []\n",
    "    with gzip.open(filename) as f:\n",
    "        for l in f:\n",
    "            data.append(json.loads(l.strip()))\n",
    "    \n",
    "    df = pd.DataFrame.from_dict(data)\n",
    "    print('data shape:', df.shape)\n",
    "    print('first rows of data:')\n",
    "    display(df.head(3))\n",
    "    return df\n",
    "\n",
    "def get_metadata_with_ratings(reviews, metadata):\n",
    "    ratings = reviews[['asin', 'overall']].groupby('asin').agg('mean').rename(columns={'overall': 'rating'})\n",
    "    metadata_with_ratings = metadata.merge(ratings, how=\"left\", on=\"asin\")\n",
    "    \n",
    "    # Check how many products have ratings.\n",
    "    print('distribution of ratings:')\n",
    "    display(metadata_with_ratings['rating'].describe())\n",
    "    print('number of missing ratings:', metadata_with_ratings['rating'].isnull().sum())\n",
    "    return metadata_with_ratings"
   ]
  },
  {
   "cell_type": "markdown",
   "metadata": {},
   "source": [
    "#### Metadata\n"
   ]
  },
  {
   "cell_type": "code",
   "execution_count": 121,
   "metadata": {},
   "outputs": [
    {
     "name": "stdout",
     "output_type": "stream",
     "text": [
      "data shape: (32892, 18)\n",
      "first rows of data:\n"
     ]
    },
    {
     "data": {
      "text/html": [
       "<div>\n",
       "<style scoped>\n",
       "    .dataframe tbody tr th:only-of-type {\n",
       "        vertical-align: middle;\n",
       "    }\n",
       "\n",
       "    .dataframe tbody tr th {\n",
       "        vertical-align: top;\n",
       "    }\n",
       "\n",
       "    .dataframe thead th {\n",
       "        text-align: right;\n",
       "    }\n",
       "</style>\n",
       "<table border=\"1\" class=\"dataframe\">\n",
       "  <thead>\n",
       "    <tr style=\"text-align: right;\">\n",
       "      <th></th>\n",
       "      <th>category</th>\n",
       "      <th>tech1</th>\n",
       "      <th>description</th>\n",
       "      <th>fit</th>\n",
       "      <th>title</th>\n",
       "      <th>also_buy</th>\n",
       "      <th>image</th>\n",
       "      <th>tech2</th>\n",
       "      <th>brand</th>\n",
       "      <th>feature</th>\n",
       "      <th>rank</th>\n",
       "      <th>also_view</th>\n",
       "      <th>details</th>\n",
       "      <th>main_cat</th>\n",
       "      <th>similar_item</th>\n",
       "      <th>date</th>\n",
       "      <th>price</th>\n",
       "      <th>asin</th>\n",
       "    </tr>\n",
       "  </thead>\n",
       "  <tbody>\n",
       "    <tr>\n",
       "      <th>0</th>\n",
       "      <td>[]</td>\n",
       "      <td></td>\n",
       "      <td>[Loud 'N Clear Personal Sound Amplifier allows...</td>\n",
       "      <td></td>\n",
       "      <td>Loud 'N Clear&amp;trade; Personal Sound Amplifier</td>\n",
       "      <td>[]</td>\n",
       "      <td>[]</td>\n",
       "      <td></td>\n",
       "      <td>idea village</td>\n",
       "      <td>[]</td>\n",
       "      <td>2,938,573 in Beauty &amp; Personal Care (</td>\n",
       "      <td>[]</td>\n",
       "      <td>{'ASIN: ': '6546546450'}</td>\n",
       "      <td>All Beauty</td>\n",
       "      <td></td>\n",
       "      <td></td>\n",
       "      <td></td>\n",
       "      <td>6546546450</td>\n",
       "    </tr>\n",
       "    <tr>\n",
       "      <th>1</th>\n",
       "      <td>[]</td>\n",
       "      <td></td>\n",
       "      <td>[No7 Lift &amp; Luminate Triple Action Serum 50ml ...</td>\n",
       "      <td></td>\n",
       "      <td>No7 Lift &amp;amp; Luminate Triple Action Serum 50...</td>\n",
       "      <td>[B01E7LCSL6, B008X5RVME]</td>\n",
       "      <td>[]</td>\n",
       "      <td></td>\n",
       "      <td></td>\n",
       "      <td>[]</td>\n",
       "      <td>872,854 in Beauty &amp; Personal Care (</td>\n",
       "      <td>[]</td>\n",
       "      <td>{'Shipping Weight:': '0.3 ounces (', 'ASIN: ':...</td>\n",
       "      <td>All Beauty</td>\n",
       "      <td>class=\"a-bordered a-horizontal-stripes  a-spa...</td>\n",
       "      <td></td>\n",
       "      <td>$44.99</td>\n",
       "      <td>7178680776</td>\n",
       "    </tr>\n",
       "    <tr>\n",
       "      <th>2</th>\n",
       "      <td>[]</td>\n",
       "      <td></td>\n",
       "      <td>[No7 Stay Perfect Foundation now stays perfect...</td>\n",
       "      <td></td>\n",
       "      <td>No7 Stay Perfect Foundation Cool Vanilla by No7</td>\n",
       "      <td>[]</td>\n",
       "      <td>[]</td>\n",
       "      <td></td>\n",
       "      <td>No7</td>\n",
       "      <td>[]</td>\n",
       "      <td>956,696 in Beauty &amp; Personal Care (</td>\n",
       "      <td>[B01B8BR0O8, B01B8BR0NO, B014MHXXM8]</td>\n",
       "      <td>{'Shipping Weight:': '3.5 ounces (', 'ASIN: ':...</td>\n",
       "      <td>All Beauty</td>\n",
       "      <td></td>\n",
       "      <td></td>\n",
       "      <td>$28.76</td>\n",
       "      <td>7250468162</td>\n",
       "    </tr>\n",
       "  </tbody>\n",
       "</table>\n",
       "</div>"
      ],
      "text/plain": [
       "  category tech1                                        description fit  \\\n",
       "0       []        [Loud 'N Clear Personal Sound Amplifier allows...       \n",
       "1       []        [No7 Lift & Luminate Triple Action Serum 50ml ...       \n",
       "2       []        [No7 Stay Perfect Foundation now stays perfect...       \n",
       "\n",
       "                                               title  \\\n",
       "0      Loud 'N Clear&trade; Personal Sound Amplifier   \n",
       "1  No7 Lift &amp; Luminate Triple Action Serum 50...   \n",
       "2    No7 Stay Perfect Foundation Cool Vanilla by No7   \n",
       "\n",
       "                   also_buy image tech2         brand feature  \\\n",
       "0                        []    []        idea village      []   \n",
       "1  [B01E7LCSL6, B008X5RVME]    []                          []   \n",
       "2                        []    []                 No7      []   \n",
       "\n",
       "                                    rank  \\\n",
       "0  2,938,573 in Beauty & Personal Care (   \n",
       "1    872,854 in Beauty & Personal Care (   \n",
       "2    956,696 in Beauty & Personal Care (   \n",
       "\n",
       "                              also_view  \\\n",
       "0                                    []   \n",
       "1                                    []   \n",
       "2  [B01B8BR0O8, B01B8BR0NO, B014MHXXM8]   \n",
       "\n",
       "                                             details    main_cat  \\\n",
       "0                           {'ASIN: ': '6546546450'}  All Beauty   \n",
       "1  {'Shipping Weight:': '0.3 ounces (', 'ASIN: ':...  All Beauty   \n",
       "2  {'Shipping Weight:': '3.5 ounces (', 'ASIN: ':...  All Beauty   \n",
       "\n",
       "                                        similar_item date   price        asin  \n",
       "0                                                                  6546546450  \n",
       "1   class=\"a-bordered a-horizontal-stripes  a-spa...       $44.99  7178680776  \n",
       "2                                                          $28.76  7250468162  "
      ]
     },
     "metadata": {},
     "output_type": "display_data"
    }
   ],
   "source": [
    "url ='http://deepyeti.ucsd.edu/jianmo/amazon/metaFiles/meta_All_Beauty.json.gz'\n",
    "filename = \"data/meta_All_Beauty.json.gz\"\n",
    "metadata = load_data(url,filename)    "
   ]
  },
  {
   "cell_type": "markdown",
   "metadata": {},
   "source": [
    "#### Reviews"
   ]
  },
  {
   "cell_type": "code",
   "execution_count": 122,
   "metadata": {},
   "outputs": [
    {
     "name": "stdout",
     "output_type": "stream",
     "text": [
      "data shape: (371345, 12)\n",
      "first rows of data:\n"
     ]
    },
    {
     "data": {
      "text/html": [
       "<div>\n",
       "<style scoped>\n",
       "    .dataframe tbody tr th:only-of-type {\n",
       "        vertical-align: middle;\n",
       "    }\n",
       "\n",
       "    .dataframe tbody tr th {\n",
       "        vertical-align: top;\n",
       "    }\n",
       "\n",
       "    .dataframe thead th {\n",
       "        text-align: right;\n",
       "    }\n",
       "</style>\n",
       "<table border=\"1\" class=\"dataframe\">\n",
       "  <thead>\n",
       "    <tr style=\"text-align: right;\">\n",
       "      <th></th>\n",
       "      <th>overall</th>\n",
       "      <th>verified</th>\n",
       "      <th>reviewTime</th>\n",
       "      <th>reviewerID</th>\n",
       "      <th>asin</th>\n",
       "      <th>reviewerName</th>\n",
       "      <th>reviewText</th>\n",
       "      <th>summary</th>\n",
       "      <th>unixReviewTime</th>\n",
       "      <th>vote</th>\n",
       "      <th>style</th>\n",
       "      <th>image</th>\n",
       "    </tr>\n",
       "  </thead>\n",
       "  <tbody>\n",
       "    <tr>\n",
       "      <th>0</th>\n",
       "      <td>1.0</td>\n",
       "      <td>True</td>\n",
       "      <td>02 19, 2015</td>\n",
       "      <td>A1V6B6TNIC10QE</td>\n",
       "      <td>0143026860</td>\n",
       "      <td>theodore j bigham</td>\n",
       "      <td>great</td>\n",
       "      <td>One Star</td>\n",
       "      <td>1424304000</td>\n",
       "      <td>NaN</td>\n",
       "      <td>NaN</td>\n",
       "      <td>NaN</td>\n",
       "    </tr>\n",
       "    <tr>\n",
       "      <th>1</th>\n",
       "      <td>4.0</td>\n",
       "      <td>True</td>\n",
       "      <td>12 18, 2014</td>\n",
       "      <td>A2F5GHSXFQ0W6J</td>\n",
       "      <td>0143026860</td>\n",
       "      <td>Mary K. Byke</td>\n",
       "      <td>My  husband wanted to reading about the Negro ...</td>\n",
       "      <td>... to reading about the Negro Baseball and th...</td>\n",
       "      <td>1418860800</td>\n",
       "      <td>NaN</td>\n",
       "      <td>NaN</td>\n",
       "      <td>NaN</td>\n",
       "    </tr>\n",
       "    <tr>\n",
       "      <th>2</th>\n",
       "      <td>4.0</td>\n",
       "      <td>True</td>\n",
       "      <td>08 10, 2014</td>\n",
       "      <td>A1572GUYS7DGSR</td>\n",
       "      <td>0143026860</td>\n",
       "      <td>David G</td>\n",
       "      <td>This book was very informative, covering all a...</td>\n",
       "      <td>Worth the Read</td>\n",
       "      <td>1407628800</td>\n",
       "      <td>NaN</td>\n",
       "      <td>NaN</td>\n",
       "      <td>NaN</td>\n",
       "    </tr>\n",
       "  </tbody>\n",
       "</table>\n",
       "</div>"
      ],
      "text/plain": [
       "   overall  verified   reviewTime      reviewerID        asin  \\\n",
       "0      1.0      True  02 19, 2015  A1V6B6TNIC10QE  0143026860   \n",
       "1      4.0      True  12 18, 2014  A2F5GHSXFQ0W6J  0143026860   \n",
       "2      4.0      True  08 10, 2014  A1572GUYS7DGSR  0143026860   \n",
       "\n",
       "        reviewerName                                         reviewText  \\\n",
       "0  theodore j bigham                                              great   \n",
       "1       Mary K. Byke  My  husband wanted to reading about the Negro ...   \n",
       "2            David G  This book was very informative, covering all a...   \n",
       "\n",
       "                                             summary  unixReviewTime vote  \\\n",
       "0                                           One Star      1424304000  NaN   \n",
       "1  ... to reading about the Negro Baseball and th...      1418860800  NaN   \n",
       "2                                     Worth the Read      1407628800  NaN   \n",
       "\n",
       "  style image  \n",
       "0   NaN   NaN  \n",
       "1   NaN   NaN  \n",
       "2   NaN   NaN  "
      ]
     },
     "metadata": {},
     "output_type": "display_data"
    }
   ],
   "source": [
    "url ='http://deepyeti.ucsd.edu/jianmo/amazon/metaFiles/All_Beauty.json.gz'\n",
    "filename = \"data/All_Beauty.json.gz\"\n",
    "reviews = load_data(url,filename) "
   ]
  },
  {
   "cell_type": "markdown",
   "metadata": {},
   "source": [
    "#### Merging `Reviews` and `Metadata`"
   ]
  },
  {
   "cell_type": "code",
   "execution_count": 123,
   "metadata": {},
   "outputs": [
    {
     "name": "stdout",
     "output_type": "stream",
     "text": [
      "distribution of ratings:\n"
     ]
    },
    {
     "data": {
      "text/plain": [
       "count    32890.000000\n",
       "mean         4.040421\n",
       "std          1.144289\n",
       "min          1.000000\n",
       "25%          3.500000\n",
       "50%          4.428571\n",
       "75%          5.000000\n",
       "max          5.000000\n",
       "Name: rating, dtype: float64"
      ]
     },
     "metadata": {},
     "output_type": "display_data"
    },
    {
     "name": "stdout",
     "output_type": "stream",
     "text": [
      "number of missing ratings: 2\n"
     ]
    }
   ],
   "source": [
    "metadata_with_ratings = get_metadata_with_ratings(reviews, metadata)"
   ]
  },
  {
   "cell_type": "markdown",
   "metadata": {},
   "source": [
    "#### `reviews` attributes:\n",
    "- reviewerID - ID of the reviewer, e.g. A2SUAM1J3GNN3B\n",
    "- asin - ID of the product, e.g. 0000013714\n",
    "- reviewerName - name of the reviewer\n",
    "- vote - helpful votes of the review\n",
    "- style - a disctionary of the product metadata, e.g., \"Format\" is \"Hardcover\"\n",
    "- reviewText - text of the review\n",
    "- overall - rating of the product\n",
    "- summary - summary of the review\n",
    "- unixReviewTime - time of the review (unix time)\n",
    "- reviewTime - time of the review (raw)\n",
    "- image - images that users post after they have received the product\n",
    "#### `metadata` attributes:\n",
    "- title - name of the product\n",
    "- feature - bullet-point format features of the product\n",
    "- description - description of the product\n",
    "- price - price in US dollars (at time of crawl)\n",
    "- image - url of the product image\n",
    "- related - related products (also bought, also viewed, bought together, buy after viewing)\n",
    "- salesRank - sales rank information\n",
    "- brand - brand name\n",
    "- categories - list of categories the product belongs to\n",
    "- tech1 - the first technical detail table of the product\n",
    "- tech2 - the second technical detail table of the product\n",
    "- similar - similar product table"
   ]
  },
  {
   "cell_type": "markdown",
   "metadata": {},
   "source": [
    "Reviews dataset is only used for EDA, not modeling purposes."
   ]
  },
  {
   "cell_type": "markdown",
   "metadata": {},
   "source": [
    "## Data Cleaning"
   ]
  },
  {
   "cell_type": "markdown",
   "metadata": {},
   "source": [
    "#### Granularity: \n",
    "The granularity of `metadata` is a single product and the granularity for `reviews` dataset is a single review."
   ]
  },
  {
   "cell_type": "markdown",
   "metadata": {},
   "source": [
    "#### Cleaning and filtering:"
   ]
  },
  {
   "cell_type": "code",
   "execution_count": 124,
   "metadata": {},
   "outputs": [
    {
     "name": "stdout",
     "output_type": "stream",
     "text": [
      "32892\n",
      "0\n"
     ]
    }
   ],
   "source": [
    "# This cleaning procedure is recommended by the documentation\n",
    "metadata = metadata.fillna('')\n",
    "unform = metadata[metadata.title.str.contains('getTime')] # unformatted rows\n",
    "print(len(metadata))\n",
    "print(len(unform))\n",
    "# Turns out there are no unformatted rows"
   ]
  },
  {
   "cell_type": "markdown",
   "metadata": {},
   "source": [
    "Cleaning utility function:"
   ]
  },
  {
   "cell_type": "code",
   "execution_count": 125,
   "metadata": {},
   "outputs": [],
   "source": [
    "def describe_feat(data, feat, as_int=False):\n",
    "    description = data[feat].describe()\n",
    "    if as_int:\n",
    "        description = description.astype(int)\n",
    "    display(description)\n",
    "    print(f'number of missing {feat}s:', data[feat].isnull().sum())\n",
    "\n",
    "def clean_features(metadata_with_ratings, training_data=None, output=True):\n",
    "    if training_data is None:\n",
    "        training_data = metadata_with_ratings\n",
    "    # Clean price.\n",
    "    metadata_with_ratings['price_float'] = pd.to_numeric(\n",
    "            metadata_with_ratings['price'].str.replace('$', ''), errors='coerce')\n",
    "    if output:\n",
    "        describe_feat(metadata_with_ratings, 'price_float')    \n",
    "    \n",
    "    # Clean sales rank.\n",
    "    metadata_with_ratings['rank_float'] = pd.to_numeric(metadata_with_ratings['rank'].str.replace(',', '') \\\n",
    "                                                      .str.extract('^(\\d+)', expand=False), errors='coerce')\n",
    "    if output:\n",
    "        describe_feat(metadata_with_ratings, 'rank_float', as_int=True)\n",
    "    \n",
    "    # Add sales rank category.\n",
    "    metadata_with_ratings['rank_category'] = metadata_with_ratings['rank'] \\\n",
    "                .str.extract(' in (.+) \\(', expand=False) \\\n",
    "                .str.replace('&amp;', '&')\n",
    "    if output:\n",
    "        print('categories:')\n",
    "        print(metadata_with_ratings['rank_category'].value_counts())\n",
    "    \n",
    "    # Clean reviews\n",
    "    \n",
    "    \n",
    "    # Clean description.\n",
    "    metadata_with_ratings['description_str'] = metadata_with_ratings['description'].str.join('\\n')\n",
    "    \n",
    "    # Clean brand.\n",
    "    brand_counts = training_data['brand'].value_counts().iloc[1:]\n",
    "    metadata_with_ratings['brand_count'] = pd.to_numeric(metadata_with_ratings['brand'].replace(brand_counts),\n",
    "                                                         errors='coerce').fillna(0)\n",
    "    if output:\n",
    "        describe_feat(metadata_with_ratings, 'brand_count')\n",
    "    metadata_with_ratings['top_brand'] = (metadata_with_ratings['brand_count'] > 20).astype(int)\n",
    "    if output:\n",
    "        print('percentage top brand:', metadata_with_ratings['top_brand'].mean())"
   ]
  },
  {
   "cell_type": "code",
   "execution_count": 126,
   "metadata": {},
   "outputs": [
    {
     "data": {
      "text/plain": [
       "count    11268.000000\n",
       "mean        27.745949\n",
       "std         47.096857\n",
       "min          0.010000\n",
       "25%          8.990000\n",
       "50%         15.990000\n",
       "75%         29.990000\n",
       "max        999.990000\n",
       "Name: price_float, dtype: float64"
      ]
     },
     "metadata": {},
     "output_type": "display_data"
    },
    {
     "name": "stdout",
     "output_type": "stream",
     "text": [
      "number of missing price_floats: 21624\n"
     ]
    },
    {
     "data": {
      "text/plain": [
       "count      32452\n",
       "mean     1288189\n",
       "std       815171\n",
       "min           35\n",
       "25%       677521\n",
       "50%      1133461\n",
       "75%      1751104\n",
       "max      9549407\n",
       "Name: rank_float, dtype: int32"
      ]
     },
     "metadata": {},
     "output_type": "display_data"
    },
    {
     "name": "stdout",
     "output_type": "stream",
     "text": [
      "number of missing rank_floats: 440\n",
      "categories:\n",
      "Beauty & Personal Care       32380\n",
      "Grocery & Gourmet Food          38\n",
      "Health & Household              21\n",
      "Toys & Games                     3\n",
      "Sports & Outdoors                3\n",
      "Baby                             2\n",
      "Clothing, Shoes & Jewelry        2\n",
      "Automotive                       1\n",
      "Home & Kitchen                   1\n",
      "Tools & Home Improvement         1\n",
      "Name: rank_category, dtype: int64\n"
     ]
    },
    {
     "data": {
      "text/plain": [
       "count    32892.000000\n",
       "mean         7.751094\n",
       "std         26.280731\n",
       "min          0.000000\n",
       "25%          0.000000\n",
       "50%          1.000000\n",
       "75%          3.000000\n",
       "max        252.000000\n",
       "Name: brand_count, dtype: float64"
      ]
     },
     "metadata": {},
     "output_type": "display_data"
    },
    {
     "name": "stdout",
     "output_type": "stream",
     "text": [
      "number of missing brand_counts: 0\n",
      "percentage top brand: 0.08318132068588106\n"
     ]
    }
   ],
   "source": [
    "clean_features(metadata_with_ratings)"
   ]
  },
  {
   "cell_type": "markdown",
   "metadata": {},
   "source": [
    "#### Cleaning operations performed:"
   ]
  },
  {
   "cell_type": "markdown",
   "metadata": {},
   "source": [
    "- `price`: Extracted the price value as a float into `price_float`\n",
    "- `sales rank`: \n",
    "    - Extracted the rank value as a float into `rank_float`\n",
    "    - Created a new attribute called `rank_category`\n",
    "- `description`: Removed \\n from the descriptions\n",
    "- `Brand`: Added `brand_counts`, the number of products sold by that brand"
   ]
  },
  {
   "cell_type": "markdown",
   "metadata": {},
   "source": [
    "Indeed, products with missing price do exist. We now decide on whether we remove these products from the review dataset or we keep them and try coming up with a approximation for their price.\n",
    "Let's check what proportion of the product dataset is missing a price:"
   ]
  },
  {
   "cell_type": "code",
   "execution_count": 127,
   "metadata": {},
   "outputs": [
    {
     "name": "stdout",
     "output_type": "stream",
     "text": [
      "About  65.74242977015687 % products are missing a price value\n"
     ]
    }
   ],
   "source": [
    "print(\"About \",metadata_with_ratings[np.isnan(metadata_with_ratings['price_float'])].shape[0]/metadata_with_ratings.shape[0] * 100,\"% products are missing a price value\")"
   ]
  },
  {
   "cell_type": "markdown",
   "metadata": {},
   "source": [
    "This proportion is very huge. Let's see if we can identify a pattern in the product metadata for missing prices during EDA."
   ]
  },
  {
   "cell_type": "markdown",
   "metadata": {},
   "source": [
    "Transformations:"
   ]
  },
  {
   "cell_type": "code",
   "execution_count": 161,
   "metadata": {},
   "outputs": [],
   "source": [
    "transform_col(metadata_with_ratings, np.log, 'rank_float', 'log_rank')\n",
    "transform_col(metadata_with_ratings, np.sqrt, 'rank_float', 'sqrt_rank')\n",
    "transform_col(metadata_with_ratings, lambda x: x * x, 'price_float', 'sq_price')\n",
    "transform_col(metadata_with_ratings, lambda x: x * x, 'brand_count', 'sq_brand_count')"
   ]
  },
  {
   "cell_type": "markdown",
   "metadata": {},
   "source": [
    "#### Filtering operations performed"
   ]
  },
  {
   "cell_type": "code",
   "execution_count": 162,
   "metadata": {},
   "outputs": [
    {
     "data": {
      "text/plain": [
       "(32380, 29)"
      ]
     },
     "execution_count": 162,
     "metadata": {},
     "output_type": "execute_result"
    }
   ],
   "source": [
    "# Remove products with incorrect rank\n",
    "metadata_beauty = metadata_with_ratings.query('rank_category == \"Beauty & Personal Care\"')\n",
    "metadata_beauty.shape"
   ]
  },
  {
   "cell_type": "code",
   "execution_count": 163,
   "metadata": {},
   "outputs": [
    {
     "data": {
      "text/plain": [
       "(11112, 29)"
      ]
     },
     "execution_count": 163,
     "metadata": {},
     "output_type": "execute_result"
    }
   ],
   "source": [
    "# Remove products with out price, which likely means the product is no longer available.\n",
    "metadata_available = metadata_beauty[~np.isnan(metadata_beauty['price_float'])]\n",
    "metadata_available.shape"
   ]
  },
  {
   "cell_type": "markdown",
   "metadata": {},
   "source": [
    "## Exploratory Data Analysis"
   ]
  },
  {
   "cell_type": "markdown",
   "metadata": {},
   "source": [
    "Utility functions:"
   ]
  },
  {
   "cell_type": "code",
   "execution_count": 164,
   "metadata": {},
   "outputs": [],
   "source": [
    "def plot_joint_reg(data, x, y, title='', plot_figure=True):\n",
    "    if plot_figure:\n",
    "        sns.jointplot(data=data, x=x, y=y, kind='reg',\n",
    "                      scatter_kws={'alpha': 0.1, 's': 15}, line_kws={'color': 'r'}) \\\n",
    "                .fig.suptitle(title)\n",
    "    data_cleaned = data.query(f'not {x}.isnull() and not {y}.isnull()')\n",
    "    X = bdata_cleaned[x].to_numpy()[:,None]\n",
    "    model = LinearRegression().fit(X, data_cleaned[y])\n",
    "    print(f'y = {model.intercept_} + {model.coef_[0]} * x, r^2 = {model.score(X, data_cleaned[y])}')"
   ]
  },
  {
   "cell_type": "markdown",
   "metadata": {},
   "source": [
    "#### 1. Missing Prices"
   ]
  },
  {
   "cell_type": "markdown",
   "metadata": {},
   "source": [
    "In this section we try and address the missing prices:"
   ]
  },
  {
   "cell_type": "code",
   "execution_count": 195,
   "metadata": {},
   "outputs": [],
   "source": [
    "noprice = metadata[metadata['price'] =='']\n",
    "withprice = metadata[metadata['price'] !='']\n",
    "brands_no_price = noprice['brand'].value_counts(dropna=False).to_frame().reset_index()\n",
    "brands_no_price.columns = ['brand','no_price']\n",
    "brands_with_price = withprice['brand'].value_counts(dropna=False).to_frame().reset_index()\n",
    "brands_with_price.columns = ['brand','with_price']"
   ]
  },
  {
   "cell_type": "markdown",
   "metadata": {},
   "source": [
    "Checking if not having prices is a brand specific pattern or product specific. If this is not specific to a brand, we can use the average price for all the products of a brand to assign the missing price. Unfortuately, if there is a brand with no products priced, we will have to discard that data as the proportion of products with missing price data is already very big and making assumptions will skew the data."
   ]
  },
  {
   "cell_type": "markdown",
   "metadata": {},
   "source": [
    "`price_exist` is a dataframe with `brand` name,`total` # products, # products with price (`with_price`), # products without price(`no_price`) and a boolean feature which is `True` if the brand has both priced and unpriced products otherwies `False`."
   ]
  },
  {
   "cell_type": "code",
   "execution_count": 197,
   "metadata": {},
   "outputs": [],
   "source": [
    "price_exist = metadata['brand'].value_counts(dropna=False).to_frame().reset_index()\n",
    "price_exist.columns = ['brand','total']\n",
    "price_exist.head()\n",
    "\n",
    "price_exist = price_exist.merge(brands_with_price,how = 'left',on = 'brand').merge(brands_no_price,how = 'left',on = 'brand')"
   ]
  },
  {
   "cell_type": "code",
   "execution_count": 201,
   "metadata": {},
   "outputs": [
    {
     "data": {
      "text/html": [
       "<div>\n",
       "<style scoped>\n",
       "    .dataframe tbody tr th:only-of-type {\n",
       "        vertical-align: middle;\n",
       "    }\n",
       "\n",
       "    .dataframe tbody tr th {\n",
       "        vertical-align: top;\n",
       "    }\n",
       "\n",
       "    .dataframe thead th {\n",
       "        text-align: right;\n",
       "    }\n",
       "</style>\n",
       "<table border=\"1\" class=\"dataframe\">\n",
       "  <thead>\n",
       "    <tr style=\"text-align: right;\">\n",
       "      <th></th>\n",
       "      <th>brand</th>\n",
       "      <th>total</th>\n",
       "      <th>with_price</th>\n",
       "      <th>no_price</th>\n",
       "    </tr>\n",
       "  </thead>\n",
       "  <tbody>\n",
       "    <tr>\n",
       "      <th>0</th>\n",
       "      <td></td>\n",
       "      <td>15673</td>\n",
       "      <td>3664.0</td>\n",
       "      <td>12009.0</td>\n",
       "    </tr>\n",
       "    <tr>\n",
       "      <th>1</th>\n",
       "      <td>VAGA</td>\n",
       "      <td>252</td>\n",
       "      <td>197.0</td>\n",
       "      <td>55.0</td>\n",
       "    </tr>\n",
       "    <tr>\n",
       "      <th>2</th>\n",
       "      <td>L'Oreal Paris</td>\n",
       "      <td>113</td>\n",
       "      <td>58.0</td>\n",
       "      <td>55.0</td>\n",
       "    </tr>\n",
       "    <tr>\n",
       "      <th>3</th>\n",
       "      <td>Philips Norelco</td>\n",
       "      <td>88</td>\n",
       "      <td>21.0</td>\n",
       "      <td>67.0</td>\n",
       "    </tr>\n",
       "    <tr>\n",
       "      <th>4</th>\n",
       "      <td>Gillette</td>\n",
       "      <td>83</td>\n",
       "      <td>15.0</td>\n",
       "      <td>68.0</td>\n",
       "    </tr>\n",
       "    <tr>\n",
       "      <th>...</th>\n",
       "      <td>...</td>\n",
       "      <td>...</td>\n",
       "      <td>...</td>\n",
       "      <td>...</td>\n",
       "    </tr>\n",
       "    <tr>\n",
       "      <th>7858</th>\n",
       "      <td>98 KUPD Records</td>\n",
       "      <td>1</td>\n",
       "      <td>0.0</td>\n",
       "      <td>1.0</td>\n",
       "    </tr>\n",
       "    <tr>\n",
       "      <th>7859</th>\n",
       "      <td>Apex Healthcare Products</td>\n",
       "      <td>1</td>\n",
       "      <td>1.0</td>\n",
       "      <td>0.0</td>\n",
       "    </tr>\n",
       "    <tr>\n",
       "      <th>7860</th>\n",
       "      <td>Vaadi Herbal</td>\n",
       "      <td>1</td>\n",
       "      <td>1.0</td>\n",
       "      <td>0.0</td>\n",
       "    </tr>\n",
       "    <tr>\n",
       "      <th>7861</th>\n",
       "      <td>Calipz</td>\n",
       "      <td>1</td>\n",
       "      <td>0.0</td>\n",
       "      <td>1.0</td>\n",
       "    </tr>\n",
       "    <tr>\n",
       "      <th>7862</th>\n",
       "      <td>ICHIKAMI</td>\n",
       "      <td>1</td>\n",
       "      <td>0.0</td>\n",
       "      <td>1.0</td>\n",
       "    </tr>\n",
       "  </tbody>\n",
       "</table>\n",
       "<p>7863 rows × 4 columns</p>\n",
       "</div>"
      ],
      "text/plain": [
       "                         brand  total  with_price  no_price\n",
       "0                               15673      3664.0   12009.0\n",
       "1                         VAGA    252       197.0      55.0\n",
       "2                L'Oreal Paris    113        58.0      55.0\n",
       "3              Philips Norelco     88        21.0      67.0\n",
       "4                     Gillette     83        15.0      68.0\n",
       "...                        ...    ...         ...       ...\n",
       "7858           98 KUPD Records      1         0.0       1.0\n",
       "7859  Apex Healthcare Products      1         1.0       0.0\n",
       "7860              Vaadi Herbal      1         1.0       0.0\n",
       "7861                    Calipz      1         0.0       1.0\n",
       "7862                  ICHIKAMI      1         0.0       1.0\n",
       "\n",
       "[7863 rows x 4 columns]"
      ]
     },
     "execution_count": 201,
     "metadata": {},
     "output_type": "execute_result"
    }
   ],
   "source": [
    "price_exist.head()\n",
    "price_exist.fillna(0)"
   ]
  },
  {
   "cell_type": "code",
   "execution_count": 204,
   "metadata": {},
   "outputs": [
    {
     "data": {
      "text/html": [
       "<div>\n",
       "<style scoped>\n",
       "    .dataframe tbody tr th:only-of-type {\n",
       "        vertical-align: middle;\n",
       "    }\n",
       "\n",
       "    .dataframe tbody tr th {\n",
       "        vertical-align: top;\n",
       "    }\n",
       "\n",
       "    .dataframe thead th {\n",
       "        text-align: right;\n",
       "    }\n",
       "</style>\n",
       "<table border=\"1\" class=\"dataframe\">\n",
       "  <thead>\n",
       "    <tr style=\"text-align: right;\">\n",
       "      <th></th>\n",
       "      <th>category</th>\n",
       "      <th>tech1</th>\n",
       "      <th>description</th>\n",
       "      <th>fit</th>\n",
       "      <th>title</th>\n",
       "      <th>also_buy</th>\n",
       "      <th>image</th>\n",
       "      <th>tech2</th>\n",
       "      <th>brand</th>\n",
       "      <th>feature</th>\n",
       "      <th>rank</th>\n",
       "      <th>also_view</th>\n",
       "      <th>details</th>\n",
       "      <th>main_cat</th>\n",
       "      <th>similar_item</th>\n",
       "      <th>date</th>\n",
       "      <th>price</th>\n",
       "      <th>asin</th>\n",
       "    </tr>\n",
       "  </thead>\n",
       "  <tbody>\n",
       "    <tr>\n",
       "      <th>48</th>\n",
       "      <td>[]</td>\n",
       "      <td></td>\n",
       "      <td>[Gillettes strong, sustained growth in blades ...</td>\n",
       "      <td></td>\n",
       "      <td>Gillette SensorExcel Cartridges (Pack of 15)</td>\n",
       "      <td>[]</td>\n",
       "      <td>[https://images-na.ssl-images-amazon.com/image...</td>\n",
       "      <td></td>\n",
       "      <td>Gillette</td>\n",
       "      <td>[]</td>\n",
       "      <td>2,896,468 in Beauty &amp;amp; Personal Care (</td>\n",
       "      <td>[]</td>\n",
       "      <td>{'Shipping Weight:': '2.5 pounds', 'Domestic S...</td>\n",
       "      <td>All Beauty</td>\n",
       "      <td></td>\n",
       "      <td></td>\n",
       "      <td></td>\n",
       "      <td>B0000530JE</td>\n",
       "    </tr>\n",
       "    <tr>\n",
       "      <th>56</th>\n",
       "      <td>[]</td>\n",
       "      <td></td>\n",
       "      <td>[, A revolutionary new &lt;b&gt;triple-blade shaving...</td>\n",
       "      <td></td>\n",
       "      <td>Gillette MACH3 Shaving Cartridges (12 Cartridges)</td>\n",
       "      <td>[]</td>\n",
       "      <td>[https://images-na.ssl-images-amazon.com/image...</td>\n",
       "      <td></td>\n",
       "      <td>Gillette</td>\n",
       "      <td>[]</td>\n",
       "      <td>1,615,438 in Beauty &amp;amp; Personal Care (</td>\n",
       "      <td>[]</td>\n",
       "      <td>{'Shipping Weight:': '2.4 ounces (', 'Domestic...</td>\n",
       "      <td>All Beauty</td>\n",
       "      <td></td>\n",
       "      <td></td>\n",
       "      <td>$31.90</td>\n",
       "      <td>B00005355V</td>\n",
       "    </tr>\n",
       "    <tr>\n",
       "      <th>57</th>\n",
       "      <td>[]</td>\n",
       "      <td></td>\n",
       "      <td>[Formulated with Tea Tree Oil to penetrate and...</td>\n",
       "      <td></td>\n",
       "      <td>The Gillette Series Shave Gel, Deep Clean, 7-O...</td>\n",
       "      <td>[]</td>\n",
       "      <td>[]</td>\n",
       "      <td></td>\n",
       "      <td>Gillette</td>\n",
       "      <td>[]</td>\n",
       "      <td>3,170,859 in Beauty &amp; Personal Care (</td>\n",
       "      <td>[]</td>\n",
       "      <td>{'\n",
       "    Item Weight: \n",
       "    ': '11.4 ounces', 'Sh...</td>\n",
       "      <td>All Beauty</td>\n",
       "      <td></td>\n",
       "      <td></td>\n",
       "      <td></td>\n",
       "      <td>B0000532E2</td>\n",
       "    </tr>\n",
       "    <tr>\n",
       "      <th>84</th>\n",
       "      <td>[]</td>\n",
       "      <td></td>\n",
       "      <td>[World's best shave. The next generation tripl...</td>\n",
       "      <td></td>\n",
       "      <td>Gillette Mach3 Turbo Cartridges with Aloe &amp;amp...</td>\n",
       "      <td>[]</td>\n",
       "      <td>[]</td>\n",
       "      <td></td>\n",
       "      <td>Gillette</td>\n",
       "      <td>[]</td>\n",
       "      <td>1,359,849 in Beauty &amp; Personal Care (</td>\n",
       "      <td>[]</td>\n",
       "      <td>{'Shipping Weight:': '3.2 ounces (', 'Domestic...</td>\n",
       "      <td>All Beauty</td>\n",
       "      <td></td>\n",
       "      <td></td>\n",
       "      <td>$21.05</td>\n",
       "      <td>B000065AB1</td>\n",
       "    </tr>\n",
       "    <tr>\n",
       "      <th>85</th>\n",
       "      <td>[]</td>\n",
       "      <td></td>\n",
       "      <td>[Get a close and comfortable with Gillette Ser...</td>\n",
       "      <td></td>\n",
       "      <td>Gillette Series Extra Comfort Shave Gel 7 Oz (...</td>\n",
       "      <td>[]</td>\n",
       "      <td>[https://images-na.ssl-images-amazon.com/image...</td>\n",
       "      <td></td>\n",
       "      <td>Gillette</td>\n",
       "      <td>[]</td>\n",
       "      <td>1,410,174 in Beauty &amp;amp; Personal Care (</td>\n",
       "      <td>[]</td>\n",
       "      <td>{'\n",
       "    Product Dimensions: \n",
       "    ': '2.1 x 2.1 ...</td>\n",
       "      <td>All Beauty</td>\n",
       "      <td></td>\n",
       "      <td></td>\n",
       "      <td></td>\n",
       "      <td>B000065AB6</td>\n",
       "    </tr>\n",
       "  </tbody>\n",
       "</table>\n",
       "</div>"
      ],
      "text/plain": [
       "   category tech1                                        description fit  \\\n",
       "48       []        [Gillettes strong, sustained growth in blades ...       \n",
       "56       []        [, A revolutionary new <b>triple-blade shaving...       \n",
       "57       []        [Formulated with Tea Tree Oil to penetrate and...       \n",
       "84       []        [World's best shave. The next generation tripl...       \n",
       "85       []        [Get a close and comfortable with Gillette Ser...       \n",
       "\n",
       "                                                title also_buy  \\\n",
       "48       Gillette SensorExcel Cartridges (Pack of 15)       []   \n",
       "56  Gillette MACH3 Shaving Cartridges (12 Cartridges)       []   \n",
       "57  The Gillette Series Shave Gel, Deep Clean, 7-O...       []   \n",
       "84  Gillette Mach3 Turbo Cartridges with Aloe &amp...       []   \n",
       "85  Gillette Series Extra Comfort Shave Gel 7 Oz (...       []   \n",
       "\n",
       "                                                image tech2     brand feature  \\\n",
       "48  [https://images-na.ssl-images-amazon.com/image...        Gillette      []   \n",
       "56  [https://images-na.ssl-images-amazon.com/image...        Gillette      []   \n",
       "57                                                 []        Gillette      []   \n",
       "84                                                 []        Gillette      []   \n",
       "85  [https://images-na.ssl-images-amazon.com/image...        Gillette      []   \n",
       "\n",
       "                                         rank also_view  \\\n",
       "48  2,896,468 in Beauty &amp; Personal Care (        []   \n",
       "56  1,615,438 in Beauty &amp; Personal Care (        []   \n",
       "57      3,170,859 in Beauty & Personal Care (        []   \n",
       "84      1,359,849 in Beauty & Personal Care (        []   \n",
       "85  1,410,174 in Beauty &amp; Personal Care (        []   \n",
       "\n",
       "                                              details    main_cat  \\\n",
       "48  {'Shipping Weight:': '2.5 pounds', 'Domestic S...  All Beauty   \n",
       "56  {'Shipping Weight:': '2.4 ounces (', 'Domestic...  All Beauty   \n",
       "57  {'\n",
       "    Item Weight: \n",
       "    ': '11.4 ounces', 'Sh...  All Beauty   \n",
       "84  {'Shipping Weight:': '3.2 ounces (', 'Domestic...  All Beauty   \n",
       "85  {'\n",
       "    Product Dimensions: \n",
       "    ': '2.1 x 2.1 ...  All Beauty   \n",
       "\n",
       "   similar_item date   price        asin  \n",
       "48                            B0000530JE  \n",
       "56                    $31.90  B00005355V  \n",
       "57                            B0000532E2  \n",
       "84                    $21.05  B000065AB1  \n",
       "85                            B000065AB6  "
      ]
     },
     "execution_count": 204,
     "metadata": {},
     "output_type": "execute_result"
    }
   ],
   "source": [
    "metadata[metadata['brand'] == 'Gillette'].head()"
   ]
  },
  {
   "cell_type": "code",
   "execution_count": 209,
   "metadata": {},
   "outputs": [
    {
     "name": "stdout",
     "output_type": "stream",
     "text": [
      "['Formulated with Tea Tree Oil to penetrate and clean, and deliver the protection and comfort you need for healthy looking skin. No other shaving foam or gel provides a closer, smoother, more comfortable shave. Gillette Series - Advanced protection and comf'] \n",
      "\n",
      "The Gillette Series Shave Gel, Deep Clean, 7-Ounce Bottle (Pack of 6)\n"
     ]
    }
   ],
   "source": [
    "print(metadata.query(\"brand== 'Gillette'\").loc[57,'description'],\"\\n\")\n",
    "print(metadata.query(\"brand== 'Gillette'\").loc[57,'title'])\n"
   ]
  },
  {
   "cell_type": "markdown",
   "metadata": {},
   "source": [
    "The above product is no longer sold by Gillette on Amazon. Most of the products that are missing prices are the ones that are no longer available on Amazon."
   ]
  },
  {
   "cell_type": "code",
   "execution_count": 223,
   "metadata": {},
   "outputs": [
    {
     "data": {
      "image/png": "[encoded data removed]",
      "text/plain": [
       "<Figure size 432x288 with 1 Axes>"
      ]
     },
     "metadata": {
      "needs_background": "light"
     },
     "output_type": "display_data"
    }
   ],
   "source": [
    "plt.scatter(price_exist['total'],price_exist['no_price']/price_exist['total'],)\n",
    "plt.xlabel(\"Total Products Sold\")\n",
    "plt.ylabel(\"Proportion of Products without Price\")\n",
    "plt.title(\"Proportion of Products without price by Brand\");\n"
   ]
  },
  {
   "cell_type": "markdown",
   "metadata": {},
   "source": [
    "The extreme right point is the one with missing brand name. It probably represents unbranded products. We can disregard those products for now. And to reduce overplotting, we can change the limits of x axis."
   ]
  },
  {
   "cell_type": "code",
   "execution_count": 225,
   "metadata": {},
   "outputs": [
    {
     "data": {
      "image/png": "[encoded data removed]",
      "text/plain": [
       "<Figure size 432x288 with 1 Axes>"
      ]
     },
     "metadata": {
      "needs_background": "light"
     },
     "output_type": "display_data"
    }
   ],
   "source": [
    "plt.scatter(price_exist['total'],price_exist['no_price']/price_exist['total'],)\n",
    "plt.xlim(0,100)\n",
    "plt.xlabel(\"Total Products Sold\")\n",
    "plt.ylabel(\"Proportion of Products without Price\")\n",
    "plt.title(\"Proportion of Products without price by Brand\");"
   ]
  },
  {
   "cell_type": "markdown",
   "metadata": {},
   "source": [
    "But this plot includes a lot of brands which only ever sold a few products and then shut down. Let's just look at the active brands. These are the brands which have atleast a few products with prices."
   ]
  },
  {
   "cell_type": "code",
   "execution_count": 229,
   "metadata": {},
   "outputs": [
    {
     "data": {
      "image/png": "[encoded data removed]",
      "text/plain": [
       "<Figure size 432x288 with 1 Axes>"
      ]
     },
     "metadata": {
      "needs_background": "light"
     },
     "output_type": "display_data"
    }
   ],
   "source": [
    "filtered = price_exist['with_price']>5\n",
    "x = price_exist.loc[filtered,'total']\n",
    "y = price_exist.loc[filtered,'no_price']/price_exist.loc[filtered,'total']\n",
    "plt.scatter(x,y)\n",
    "plt.xlim(0,100)\n",
    "plt.xlabel(\"Total Products Sold\")\n",
    "plt.ylabel(\"Proportion of Products without Price\")\n",
    "plt.title(\"Proportion of Products without price by active Brands\");"
   ]
  },
  {
   "cell_type": "markdown",
   "metadata": {},
   "source": [
    "There is a positive correlation between the total number of products sold by active brands and the proportion of product without prices. This tells us that larger the brand the quicker they upgrade their inventory on Amazon."
   ]
  },
  {
   "cell_type": "markdown",
   "metadata": {},
   "source": [
    "#### 2. Extracting the sentiment of the reviews"
   ]
  },
  {
   "cell_type": "markdown",
   "metadata": {},
   "source": [
    "We will now proceed with extracting the sentiment from the reviews. We will then compare it with the rating and see what correlations we expect. One should expect a positive correlation. We will then compare sentiment against the prices"
   ]
  },
  {
   "cell_type": "markdown",
   "metadata": {},
   "source": [
    "We shall be using VADER. The cell below loads the data containing all sentiments into a dataframe called `sent`"
   ]
  },
  {
   "cell_type": "code",
   "execution_count": 3,
   "metadata": {},
   "outputs": [
    {
     "name": "stdout",
     "output_type": "stream",
     "text": [
      "$:\t-1.5\t0.80623\t[-1, -1, -1, -1, -3, -1, -3, -1, -2, -1]\n",
      "%)\t-0.4\t1.0198\t[-1, 0, -1, 0, 0, -2, -1, 2, -1, 0]\n",
      "%-)\t-1.5\t1.43178\t[-2, 0, -2, -2, -1, 2, -2, -3, -2, -3]\n",
      "&-:\t-0.4\t1.42829\t[-3, -1, 0, 0, -1, -1, -1, 2, -1, 2]\n",
      "&:\t-0.7\t0.64031\t[0, -1, -1, -1, 1, -1, -1, -1, -1, -1]\n",
      "( '}{' )\t1.6\t0.66332\t[1, 2, 2, 1, 1, 2, 2, 1, 3, 1]\n",
      "(%\t-0.9\t0.9434\t[0, 0, 1, -1, -1, -1, -2, -2, -1, -2]\n",
      "('-:\t2.2\t1.16619\t[4, 1, 4, 3, 1, 2, 3, 1, 2, 1]\n",
      "(':\t2.3\t0.9\t[1, 3, 3, 2, 2, 4, 2, 3, 1, 2]\n",
      "((-:\t2.1\t0.53852\t[2, 2, 2, 1, 2, 3, 2, 2, 3, 2]\n",
      "\n"
     ]
    },
    {
     "ename": "NameError",
     "evalue": "name 'pd' is not defined",
     "output_type": "error",
     "traceback": [
      "\u001b[1;31m---------------------------------------------------------------------------\u001b[0m",
      "\u001b[1;31mNameError\u001b[0m                                 Traceback (most recent call last)",
      "\u001b[1;32m<ipython-input-3-9add903897b9>\u001b[0m in \u001b[0;36m<module>\u001b[1;34m\u001b[0m\n\u001b[0;32m      1\u001b[0m \u001b[0mprint\u001b[0m\u001b[1;33m(\u001b[0m\u001b[1;34m''\u001b[0m\u001b[1;33m.\u001b[0m\u001b[0mjoin\u001b[0m\u001b[1;33m(\u001b[0m\u001b[0mopen\u001b[0m\u001b[1;33m(\u001b[0m\u001b[1;34m\"data/vader_lexicon.txt\"\u001b[0m\u001b[1;33m)\u001b[0m\u001b[1;33m.\u001b[0m\u001b[0mreadlines\u001b[0m\u001b[1;33m(\u001b[0m\u001b[1;33m)\u001b[0m\u001b[1;33m[\u001b[0m\u001b[1;33m:\u001b[0m\u001b[1;36m10\u001b[0m\u001b[1;33m]\u001b[0m\u001b[1;33m)\u001b[0m\u001b[1;33m)\u001b[0m\u001b[1;33m\u001b[0m\u001b[1;33m\u001b[0m\u001b[0m\n\u001b[1;32m----> 2\u001b[1;33m \u001b[0msent\u001b[0m \u001b[1;33m=\u001b[0m \u001b[0mpd\u001b[0m\u001b[1;33m.\u001b[0m\u001b[0mread_csv\u001b[0m\u001b[1;33m(\u001b[0m\u001b[1;34m'data/vader_lexicon.txt'\u001b[0m\u001b[1;33m,\u001b[0m\u001b[0msep\u001b[0m \u001b[1;33m=\u001b[0m \u001b[1;34m'\\t'\u001b[0m\u001b[1;33m,\u001b[0m\u001b[0mindex_col\u001b[0m\u001b[1;33m=\u001b[0m\u001b[1;36m0\u001b[0m\u001b[1;33m,\u001b[0m\u001b[0mheader\u001b[0m\u001b[1;33m=\u001b[0m\u001b[1;32mNone\u001b[0m\u001b[1;33m,\u001b[0m \u001b[0musecols\u001b[0m \u001b[1;33m=\u001b[0m \u001b[1;33m[\u001b[0m\u001b[1;36m0\u001b[0m\u001b[1;33m,\u001b[0m\u001b[1;36m1\u001b[0m\u001b[1;33m]\u001b[0m\u001b[1;33m,\u001b[0m \u001b[0mnames\u001b[0m \u001b[1;33m=\u001b[0m \u001b[1;33m[\u001b[0m\u001b[1;34m'token'\u001b[0m\u001b[1;33m,\u001b[0m\u001b[1;34m\"polarity\"\u001b[0m\u001b[1;33m]\u001b[0m\u001b[1;33m)\u001b[0m\u001b[1;33m\u001b[0m\u001b[1;33m\u001b[0m\u001b[0m\n\u001b[0m\u001b[0;32m      3\u001b[0m \u001b[0msent\u001b[0m\u001b[1;33m.\u001b[0m\u001b[0mhead\u001b[0m\u001b[1;33m(\u001b[0m\u001b[1;33m)\u001b[0m\u001b[1;33m\u001b[0m\u001b[1;33m\u001b[0m\u001b[0m\n",
      "\u001b[1;31mNameError\u001b[0m: name 'pd' is not defined"
     ]
    }
   ],
   "source": [
    "print(''.join(open(\"data/vader_lexicon.txt\").readlines()[:10]))\n",
    "sent = pd.read_csv('data/vader_lexicon.txt',sep = '\\t',index_col=0,header=None, usecols = [0,1], names = ['token',\"polarity\"])\n",
    "sent.head()"
   ]
  },
  {
   "cell_type": "markdown",
   "metadata": {},
   "source": [
    "Let's again look at the `reviews` dataframe"
   ]
  },
  {
   "cell_type": "code",
   "execution_count": 178,
   "metadata": {},
   "outputs": [
    {
     "data": {
      "text/html": [
       "<div>\n",
       "<style scoped>\n",
       "    .dataframe tbody tr th:only-of-type {\n",
       "        vertical-align: middle;\n",
       "    }\n",
       "\n",
       "    .dataframe tbody tr th {\n",
       "        vertical-align: top;\n",
       "    }\n",
       "\n",
       "    .dataframe thead th {\n",
       "        text-align: right;\n",
       "    }\n",
       "</style>\n",
       "<table border=\"1\" class=\"dataframe\">\n",
       "  <thead>\n",
       "    <tr style=\"text-align: right;\">\n",
       "      <th></th>\n",
       "      <th>overall</th>\n",
       "      <th>verified</th>\n",
       "      <th>reviewTime</th>\n",
       "      <th>reviewerID</th>\n",
       "      <th>asin</th>\n",
       "      <th>reviewerName</th>\n",
       "      <th>reviewText</th>\n",
       "      <th>summary</th>\n",
       "      <th>unixReviewTime</th>\n",
       "      <th>vote</th>\n",
       "      <th>style</th>\n",
       "      <th>image</th>\n",
       "    </tr>\n",
       "  </thead>\n",
       "  <tbody>\n",
       "    <tr>\n",
       "      <th>0</th>\n",
       "      <td>1.0</td>\n",
       "      <td>True</td>\n",
       "      <td>02 19, 2015</td>\n",
       "      <td>A1V6B6TNIC10QE</td>\n",
       "      <td>0143026860</td>\n",
       "      <td>theodore j bigham</td>\n",
       "      <td>great</td>\n",
       "      <td>One Star</td>\n",
       "      <td>1424304000</td>\n",
       "      <td>NaN</td>\n",
       "      <td>NaN</td>\n",
       "      <td>NaN</td>\n",
       "    </tr>\n",
       "    <tr>\n",
       "      <th>1</th>\n",
       "      <td>4.0</td>\n",
       "      <td>True</td>\n",
       "      <td>12 18, 2014</td>\n",
       "      <td>A2F5GHSXFQ0W6J</td>\n",
       "      <td>0143026860</td>\n",
       "      <td>Mary K. Byke</td>\n",
       "      <td>My  husband wanted to reading about the Negro ...</td>\n",
       "      <td>... to reading about the Negro Baseball and th...</td>\n",
       "      <td>1418860800</td>\n",
       "      <td>NaN</td>\n",
       "      <td>NaN</td>\n",
       "      <td>NaN</td>\n",
       "    </tr>\n",
       "    <tr>\n",
       "      <th>2</th>\n",
       "      <td>4.0</td>\n",
       "      <td>True</td>\n",
       "      <td>08 10, 2014</td>\n",
       "      <td>A1572GUYS7DGSR</td>\n",
       "      <td>0143026860</td>\n",
       "      <td>David G</td>\n",
       "      <td>This book was very informative, covering all a...</td>\n",
       "      <td>Worth the Read</td>\n",
       "      <td>1407628800</td>\n",
       "      <td>NaN</td>\n",
       "      <td>NaN</td>\n",
       "      <td>NaN</td>\n",
       "    </tr>\n",
       "    <tr>\n",
       "      <th>3</th>\n",
       "      <td>5.0</td>\n",
       "      <td>True</td>\n",
       "      <td>03 11, 2013</td>\n",
       "      <td>A1PSGLFK1NSVO</td>\n",
       "      <td>0143026860</td>\n",
       "      <td>TamB</td>\n",
       "      <td>I am already a baseball fan and knew a bit abo...</td>\n",
       "      <td>Good Read</td>\n",
       "      <td>1362960000</td>\n",
       "      <td>NaN</td>\n",
       "      <td>NaN</td>\n",
       "      <td>NaN</td>\n",
       "    </tr>\n",
       "    <tr>\n",
       "      <th>4</th>\n",
       "      <td>5.0</td>\n",
       "      <td>True</td>\n",
       "      <td>12 25, 2011</td>\n",
       "      <td>A6IKXKZMTKGSC</td>\n",
       "      <td>0143026860</td>\n",
       "      <td>shoecanary</td>\n",
       "      <td>This was a good story of the Black leagues. I ...</td>\n",
       "      <td>More than facts, a good story read!</td>\n",
       "      <td>1324771200</td>\n",
       "      <td>5</td>\n",
       "      <td>NaN</td>\n",
       "      <td>NaN</td>\n",
       "    </tr>\n",
       "  </tbody>\n",
       "</table>\n",
       "</div>"
      ],
      "text/plain": [
       "   overall  verified   reviewTime      reviewerID        asin  \\\n",
       "0      1.0      True  02 19, 2015  A1V6B6TNIC10QE  0143026860   \n",
       "1      4.0      True  12 18, 2014  A2F5GHSXFQ0W6J  0143026860   \n",
       "2      4.0      True  08 10, 2014  A1572GUYS7DGSR  0143026860   \n",
       "3      5.0      True  03 11, 2013   A1PSGLFK1NSVO  0143026860   \n",
       "4      5.0      True  12 25, 2011   A6IKXKZMTKGSC  0143026860   \n",
       "\n",
       "        reviewerName                                         reviewText  \\\n",
       "0  theodore j bigham                                              great   \n",
       "1       Mary K. Byke  My  husband wanted to reading about the Negro ...   \n",
       "2            David G  This book was very informative, covering all a...   \n",
       "3               TamB  I am already a baseball fan and knew a bit abo...   \n",
       "4         shoecanary  This was a good story of the Black leagues. I ...   \n",
       "\n",
       "                                             summary  unixReviewTime vote  \\\n",
       "0                                           One Star      1424304000  NaN   \n",
       "1  ... to reading about the Negro Baseball and th...      1418860800  NaN   \n",
       "2                                     Worth the Read      1407628800  NaN   \n",
       "3                                          Good Read      1362960000  NaN   \n",
       "4                More than facts, a good story read!      1324771200    5   \n",
       "\n",
       "  style image  \n",
       "0   NaN   NaN  \n",
       "1   NaN   NaN  \n",
       "2   NaN   NaN  \n",
       "3   NaN   NaN  \n",
       "4   NaN   NaN  "
      ]
     },
     "execution_count": 178,
     "metadata": {},
     "output_type": "execute_result"
    }
   ],
   "source": [
    "reviews.head()"
   ]
  },
  {
   "cell_type": "markdown",
   "metadata": {},
   "source": [
    "We are interested in the `reviewText`"
   ]
  },
  {
   "cell_type": "markdown",
   "metadata": {},
   "source": [
    "Before moving ahead we need to first remove all the punctuation. Below is a regex which will capture all the punctuations within text."
   ]
  },
  {
   "cell_type": "code",
   "execution_count": 179,
   "metadata": {},
   "outputs": [
    {
     "data": {
      "text/plain": [
       "0                                                great\n",
       "1    my  husband wanted to reading about the negro ...\n",
       "2    this book was very informative  covering all a...\n",
       "3    i am already a baseball fan and knew a bit abo...\n",
       "4    this was a good story of the black leagues  i ...\n",
       "Name: clean_text, dtype: object"
      ]
     },
     "execution_count": 179,
     "metadata": {},
     "output_type": "execute_result"
    }
   ],
   "source": [
    "punct_re = r'[^\\w_\\s]'\n",
    "\n",
    "def sanitize_texts(df):\n",
    "    punct_re = r'[^\\w_\\s\\n]'    \n",
    "    df[\"clean_text\"] = df['reviewText'].str.lower().str.replace(punct_re,\" \",regex = True)\n",
    "    df[\"clean_summary\"] = df['summary'].str.lower().str.replace(punct_re,\" \",regex = True)\n",
    "    return df\n",
    "\n",
    "reviews = sanitize_texts(reviews)\n",
    "reviews[\"clean_text\"].head()"
   ]
  },
  {
   "cell_type": "code",
   "execution_count": 180,
   "metadata": {},
   "outputs": [
    {
     "data": {
      "text/plain": [
       "1456790400    515\n",
       "1468800000    469\n",
       "1468454400    430\n",
       "1461024000    426\n",
       "1462147200    412\n",
       "             ... \n",
       "1016064000      1\n",
       "1076284800      1\n",
       "1105056000      1\n",
       "1007856000      1\n",
       "1119225600      1\n",
       "Name: unixReviewTime, Length: 5288, dtype: int64"
      ]
     },
     "execution_count": 180,
     "metadata": {},
     "output_type": "execute_result"
    }
   ],
   "source": [
    "reviews[\"unixReviewTime\"].value_counts()"
   ]
  },
  {
   "cell_type": "markdown",
   "metadata": {},
   "source": [
    "It seems our review dataset doesn't have a primary key. Let's create one!!"
   ]
  },
  {
   "cell_type": "code",
   "execution_count": 182,
   "metadata": {},
   "outputs": [],
   "source": [
    "reviews[\"primary_key\"] = reviews.index"
   ]
  },
  {
   "cell_type": "code",
   "execution_count": 183,
   "metadata": {},
   "outputs": [
    {
     "data": {
      "text/plain": [
       "2047      1\n",
       "316111    1\n",
       "271057    1\n",
       "277202    1\n",
       "275155    1\n",
       "         ..\n",
       "3499      1\n",
       "13740     1\n",
       "15789     1\n",
       "9646      1\n",
       "0         1\n",
       "Name: primary_key, Length: 371345, dtype: int64"
      ]
     },
     "execution_count": 183,
     "metadata": {},
     "output_type": "execute_result"
    }
   ],
   "source": [
    "reviews[\"primary_key\"].value_counts()"
   ]
  },
  {
   "cell_type": "markdown",
   "metadata": {},
   "source": [
    "We ended up using the index as our primary key."
   ]
  },
  {
   "cell_type": "code",
   "execution_count": null,
   "metadata": {},
   "outputs": [],
   "source": []
  },
  {
   "cell_type": "code",
   "execution_count": 184,
   "metadata": {},
   "outputs": [
    {
     "data": {
      "text/html": [
       "<div>\n",
       "<style scoped>\n",
       "    .dataframe tbody tr th:only-of-type {\n",
       "        vertical-align: middle;\n",
       "    }\n",
       "\n",
       "    .dataframe tbody tr th {\n",
       "        vertical-align: top;\n",
       "    }\n",
       "\n",
       "    .dataframe thead th {\n",
       "        text-align: right;\n",
       "    }\n",
       "</style>\n",
       "<table border=\"1\" class=\"dataframe\">\n",
       "  <thead>\n",
       "    <tr style=\"text-align: right;\">\n",
       "      <th></th>\n",
       "      <th>word</th>\n",
       "    </tr>\n",
       "  </thead>\n",
       "  <tbody>\n",
       "    <tr>\n",
       "      <th>0</th>\n",
       "      <td>great</td>\n",
       "    </tr>\n",
       "    <tr>\n",
       "      <th>1</th>\n",
       "      <td>my</td>\n",
       "    </tr>\n",
       "    <tr>\n",
       "      <th>1</th>\n",
       "      <td>husband</td>\n",
       "    </tr>\n",
       "    <tr>\n",
       "      <th>1</th>\n",
       "      <td>wanted</td>\n",
       "    </tr>\n",
       "    <tr>\n",
       "      <th>1</th>\n",
       "      <td>to</td>\n",
       "    </tr>\n",
       "  </tbody>\n",
       "</table>\n",
       "</div>"
      ],
      "text/plain": [
       "      word\n",
       "0    great\n",
       "1       my\n",
       "1  husband\n",
       "1   wanted\n",
       "1       to"
      ]
     },
     "execution_count": 184,
     "metadata": {},
     "output_type": "execute_result"
    }
   ],
   "source": [
    "def to_tidy_format(df):\n",
    "    tidy = (\n",
    "        df[\"clean_text\"]\n",
    "        .str.split()\n",
    "        .explode()\n",
    "        .to_frame()\n",
    "        .rename(columns={\"clean_text\": \"word\"})\n",
    "    )\n",
    "    return tidy\n",
    "\n",
    "tidyReviewText = to_tidy_format(reviews)\n",
    "tidyReviewText.head()"
   ]
  },
  {
   "cell_type": "markdown",
   "metadata": {},
   "source": [
    "Adding in the Polarity Score:\n",
    "\n",
    "Now that we have this table in the tidy format, it becomes much easier to find the sentiment of each review: we can join the table with the lexicon table. "
   ]
  },
  {
   "cell_type": "code",
   "execution_count": 185,
   "metadata": {},
   "outputs": [
    {
     "data": {
      "text/html": [
       "<div>\n",
       "<style scoped>\n",
       "    .dataframe tbody tr th:only-of-type {\n",
       "        vertical-align: middle;\n",
       "    }\n",
       "\n",
       "    .dataframe tbody tr th {\n",
       "        vertical-align: top;\n",
       "    }\n",
       "\n",
       "    .dataframe thead th {\n",
       "        text-align: right;\n",
       "    }\n",
       "</style>\n",
       "<table border=\"1\" class=\"dataframe\">\n",
       "  <thead>\n",
       "    <tr style=\"text-align: right;\">\n",
       "      <th></th>\n",
       "      <th>overall</th>\n",
       "      <th>verified</th>\n",
       "      <th>reviewTime</th>\n",
       "      <th>reviewerID</th>\n",
       "      <th>asin</th>\n",
       "      <th>reviewerName</th>\n",
       "      <th>reviewText</th>\n",
       "      <th>summary</th>\n",
       "      <th>unixReviewTime</th>\n",
       "      <th>vote</th>\n",
       "      <th>style</th>\n",
       "      <th>image</th>\n",
       "      <th>clean_text</th>\n",
       "      <th>clean_summary</th>\n",
       "      <th>primary_key</th>\n",
       "      <th>polarity</th>\n",
       "    </tr>\n",
       "  </thead>\n",
       "  <tbody>\n",
       "    <tr>\n",
       "      <th>9</th>\n",
       "      <td>1.0</td>\n",
       "      <td>True</td>\n",
       "      <td>11 19, 2016</td>\n",
       "      <td>AMACNEW14ADMX</td>\n",
       "      <td>014789302X</td>\n",
       "      <td>rabiyaa123</td>\n",
       "      <td>it burns your eyes when u put it on  and very ...</td>\n",
       "      <td>i do not recommend.</td>\n",
       "      <td>1479513600</td>\n",
       "      <td>3</td>\n",
       "      <td>NaN</td>\n",
       "      <td>NaN</td>\n",
       "      <td>it burns your eyes when u put it on  and very ...</td>\n",
       "      <td>i do not recommend</td>\n",
       "      <td>9</td>\n",
       "      <td>-1.8</td>\n",
       "    </tr>\n",
       "    <tr>\n",
       "      <th>94</th>\n",
       "      <td>5.0</td>\n",
       "      <td>True</td>\n",
       "      <td>02 28, 2018</td>\n",
       "      <td>AAVTF1ADARRTU</td>\n",
       "      <td>1620213982</td>\n",
       "      <td>Henry Sanchez</td>\n",
       "      <td>Its the right size for the right product.  Its...</td>\n",
       "      <td>Perfect Holder for my razor and brush</td>\n",
       "      <td>1519776000</td>\n",
       "      <td>NaN</td>\n",
       "      <td>{'Size:': ' 6.25 Inches'}</td>\n",
       "      <td>NaN</td>\n",
       "      <td>its the right size for the right product   its...</td>\n",
       "      <td>perfect holder for my razor and brush</td>\n",
       "      <td>94</td>\n",
       "      <td>-1.6</td>\n",
       "    </tr>\n",
       "    <tr>\n",
       "      <th>156</th>\n",
       "      <td>5.0</td>\n",
       "      <td>True</td>\n",
       "      <td>12 17, 2017</td>\n",
       "      <td>A122O00K0Y3ET3</td>\n",
       "      <td>1620213982</td>\n",
       "      <td>Michael T.</td>\n",
       "      <td>It's fine. Wanted to order a replacement for t...</td>\n",
       "      <td>It's fine. Wanted to order a replacement for t...</td>\n",
       "      <td>1513468800</td>\n",
       "      <td>NaN</td>\n",
       "      <td>{'Size:': ' 6.25 Inches'}</td>\n",
       "      <td>NaN</td>\n",
       "      <td>it s fine  wanted to order a replacement for t...</td>\n",
       "      <td>it s fine  wanted to order a replacement for t...</td>\n",
       "      <td>156</td>\n",
       "      <td>-2.3</td>\n",
       "    </tr>\n",
       "    <tr>\n",
       "      <th>186</th>\n",
       "      <td>4.0</td>\n",
       "      <td>True</td>\n",
       "      <td>10 31, 2017</td>\n",
       "      <td>A2D2P3PXKRDVZ8</td>\n",
       "      <td>1620213982</td>\n",
       "      <td>Gutz-42</td>\n",
       "      <td>I have had it a couple of weeks and works fine...</td>\n",
       "      <td>... have had it a couple of weeks and works fi...</td>\n",
       "      <td>1509408000</td>\n",
       "      <td>NaN</td>\n",
       "      <td>{'Size:': ' 6.25 Inches'}</td>\n",
       "      <td>NaN</td>\n",
       "      <td>i have had it a couple of weeks and works fine...</td>\n",
       "      <td>have had it a couple of weeks and works fi...</td>\n",
       "      <td>186</td>\n",
       "      <td>-0.9</td>\n",
       "    </tr>\n",
       "    <tr>\n",
       "      <th>189</th>\n",
       "      <td>2.0</td>\n",
       "      <td>True</td>\n",
       "      <td>10 25, 2017</td>\n",
       "      <td>A25NTNX0RLFZD3</td>\n",
       "      <td>1620213982</td>\n",
       "      <td>Robert McLeod</td>\n",
       "      <td>My shving brush was too large in diameter.  Tr...</td>\n",
       "      <td>Do not adjust</td>\n",
       "      <td>1508889600</td>\n",
       "      <td>NaN</td>\n",
       "      <td>{'Size:': ' 6.25 Inches'}</td>\n",
       "      <td>NaN</td>\n",
       "      <td>my shving brush was too large in diameter   tr...</td>\n",
       "      <td>do not adjust</td>\n",
       "      <td>189</td>\n",
       "      <td>-3.5</td>\n",
       "    </tr>\n",
       "    <tr>\n",
       "      <th>...</th>\n",
       "      <td>...</td>\n",
       "      <td>...</td>\n",
       "      <td>...</td>\n",
       "      <td>...</td>\n",
       "      <td>...</td>\n",
       "      <td>...</td>\n",
       "      <td>...</td>\n",
       "      <td>...</td>\n",
       "      <td>...</td>\n",
       "      <td>...</td>\n",
       "      <td>...</td>\n",
       "      <td>...</td>\n",
       "      <td>...</td>\n",
       "      <td>...</td>\n",
       "      <td>...</td>\n",
       "      <td>...</td>\n",
       "    </tr>\n",
       "    <tr>\n",
       "      <th>371299</th>\n",
       "      <td>1.0</td>\n",
       "      <td>True</td>\n",
       "      <td>05 22, 2017</td>\n",
       "      <td>A29I4UGV40K8QO</td>\n",
       "      <td>B01HI75KNE</td>\n",
       "      <td>NICOLE SALMON</td>\n",
       "      <td>The dryer is a disappointment, too heavy , but...</td>\n",
       "      <td>The dryer is a disappointment, too heavy</td>\n",
       "      <td>1495411200</td>\n",
       "      <td>NaN</td>\n",
       "      <td>NaN</td>\n",
       "      <td>NaN</td>\n",
       "      <td>the dryer is a disappointment  too heavy   but...</td>\n",
       "      <td>the dryer is a disappointment  too heavy</td>\n",
       "      <td>371299</td>\n",
       "      <td>-4.4</td>\n",
       "    </tr>\n",
       "    <tr>\n",
       "      <th>371329</th>\n",
       "      <td>1.0</td>\n",
       "      <td>True</td>\n",
       "      <td>04 21, 2017</td>\n",
       "      <td>A31CW6M6DOT894</td>\n",
       "      <td>B01HJ1K3YK</td>\n",
       "      <td>Cookie</td>\n",
       "      <td>Very misleading advertising.  The price is onl...</td>\n",
       "      <td>One Star</td>\n",
       "      <td>1492732800</td>\n",
       "      <td>NaN</td>\n",
       "      <td>NaN</td>\n",
       "      <td>NaN</td>\n",
       "      <td>very misleading advertising   the price is onl...</td>\n",
       "      <td>one star</td>\n",
       "      <td>371329</td>\n",
       "      <td>-1.7</td>\n",
       "    </tr>\n",
       "    <tr>\n",
       "      <th>371336</th>\n",
       "      <td>2.0</td>\n",
       "      <td>True</td>\n",
       "      <td>06 27, 2018</td>\n",
       "      <td>AF3SZ7YB5M3Q5</td>\n",
       "      <td>B01HJEGTYK</td>\n",
       "      <td>Deb Magelssen</td>\n",
       "      <td>It's hard to  match hair color.</td>\n",
       "      <td>It's hard to match hair color.</td>\n",
       "      <td>1530057600</td>\n",
       "      <td>NaN</td>\n",
       "      <td>NaN</td>\n",
       "      <td>NaN</td>\n",
       "      <td>it s hard to  match hair color</td>\n",
       "      <td>it s hard to match hair color</td>\n",
       "      <td>371336</td>\n",
       "      <td>-0.4</td>\n",
       "    </tr>\n",
       "    <tr>\n",
       "      <th>371340</th>\n",
       "      <td>1.0</td>\n",
       "      <td>True</td>\n",
       "      <td>07 20, 2017</td>\n",
       "      <td>A202DCI7TV1022</td>\n",
       "      <td>B01HJEGTYK</td>\n",
       "      <td>Sam</td>\n",
       "      <td>It was awful. It was super frizzy and I tried ...</td>\n",
       "      <td>It was super frizzy and I tried to comb it and...</td>\n",
       "      <td>1500508800</td>\n",
       "      <td>NaN</td>\n",
       "      <td>NaN</td>\n",
       "      <td>NaN</td>\n",
       "      <td>it was awful  it was super frizzy and i tried ...</td>\n",
       "      <td>it was super frizzy and i tried to comb it and...</td>\n",
       "      <td>371340</td>\n",
       "      <td>-0.9</td>\n",
       "    </tr>\n",
       "    <tr>\n",
       "      <th>371344</th>\n",
       "      <td>2.0</td>\n",
       "      <td>True</td>\n",
       "      <td>12 15, 2016</td>\n",
       "      <td>A24KQ9RVU81L87</td>\n",
       "      <td>B01HJEGTYK</td>\n",
       "      <td>Season341</td>\n",
       "      <td>No return instructions/phone # in packaging.  ...</td>\n",
       "      <td>Might return for a replacement if I could.</td>\n",
       "      <td>1481760000</td>\n",
       "      <td>NaN</td>\n",
       "      <td>NaN</td>\n",
       "      <td>NaN</td>\n",
       "      <td>no return instructions phone   in packaging   ...</td>\n",
       "      <td>might return for a replacement if i could</td>\n",
       "      <td>371344</td>\n",
       "      <td>-0.3</td>\n",
       "    </tr>\n",
       "  </tbody>\n",
       "</table>\n",
       "<p>35851 rows × 16 columns</p>\n",
       "</div>"
      ],
      "text/plain": [
       "        overall  verified   reviewTime      reviewerID        asin  \\\n",
       "9           1.0      True  11 19, 2016   AMACNEW14ADMX  014789302X   \n",
       "94          5.0      True  02 28, 2018   AAVTF1ADARRTU  1620213982   \n",
       "156         5.0      True  12 17, 2017  A122O00K0Y3ET3  1620213982   \n",
       "186         4.0      True  10 31, 2017  A2D2P3PXKRDVZ8  1620213982   \n",
       "189         2.0      True  10 25, 2017  A25NTNX0RLFZD3  1620213982   \n",
       "...         ...       ...          ...             ...         ...   \n",
       "371299      1.0      True  05 22, 2017  A29I4UGV40K8QO  B01HI75KNE   \n",
       "371329      1.0      True  04 21, 2017  A31CW6M6DOT894  B01HJ1K3YK   \n",
       "371336      2.0      True  06 27, 2018   AF3SZ7YB5M3Q5  B01HJEGTYK   \n",
       "371340      1.0      True  07 20, 2017  A202DCI7TV1022  B01HJEGTYK   \n",
       "371344      2.0      True  12 15, 2016  A24KQ9RVU81L87  B01HJEGTYK   \n",
       "\n",
       "         reviewerName                                         reviewText  \\\n",
       "9          rabiyaa123  it burns your eyes when u put it on  and very ...   \n",
       "94      Henry Sanchez  Its the right size for the right product.  Its...   \n",
       "156        Michael T.  It's fine. Wanted to order a replacement for t...   \n",
       "186           Gutz-42  I have had it a couple of weeks and works fine...   \n",
       "189     Robert McLeod  My shving brush was too large in diameter.  Tr...   \n",
       "...               ...                                                ...   \n",
       "371299  NICOLE SALMON  The dryer is a disappointment, too heavy , but...   \n",
       "371329         Cookie  Very misleading advertising.  The price is onl...   \n",
       "371336  Deb Magelssen                    It's hard to  match hair color.   \n",
       "371340            Sam  It was awful. It was super frizzy and I tried ...   \n",
       "371344      Season341  No return instructions/phone # in packaging.  ...   \n",
       "\n",
       "                                                  summary  unixReviewTime  \\\n",
       "9                                     i do not recommend.      1479513600   \n",
       "94                  Perfect Holder for my razor and brush      1519776000   \n",
       "156     It's fine. Wanted to order a replacement for t...      1513468800   \n",
       "186     ... have had it a couple of weeks and works fi...      1509408000   \n",
       "189                                         Do not adjust      1508889600   \n",
       "...                                                   ...             ...   \n",
       "371299           The dryer is a disappointment, too heavy      1495411200   \n",
       "371329                                           One Star      1492732800   \n",
       "371336                     It's hard to match hair color.      1530057600   \n",
       "371340  It was super frizzy and I tried to comb it and...      1500508800   \n",
       "371344         Might return for a replacement if I could.      1481760000   \n",
       "\n",
       "       vote                      style image  \\\n",
       "9         3                        NaN   NaN   \n",
       "94      NaN  {'Size:': ' 6.25 Inches'}   NaN   \n",
       "156     NaN  {'Size:': ' 6.25 Inches'}   NaN   \n",
       "186     NaN  {'Size:': ' 6.25 Inches'}   NaN   \n",
       "189     NaN  {'Size:': ' 6.25 Inches'}   NaN   \n",
       "...     ...                        ...   ...   \n",
       "371299  NaN                        NaN   NaN   \n",
       "371329  NaN                        NaN   NaN   \n",
       "371336  NaN                        NaN   NaN   \n",
       "371340  NaN                        NaN   NaN   \n",
       "371344  NaN                        NaN   NaN   \n",
       "\n",
       "                                               clean_text  \\\n",
       "9       it burns your eyes when u put it on  and very ...   \n",
       "94      its the right size for the right product   its...   \n",
       "156     it s fine  wanted to order a replacement for t...   \n",
       "186     i have had it a couple of weeks and works fine...   \n",
       "189     my shving brush was too large in diameter   tr...   \n",
       "...                                                   ...   \n",
       "371299  the dryer is a disappointment  too heavy   but...   \n",
       "371329  very misleading advertising   the price is onl...   \n",
       "371336                    it s hard to  match hair color    \n",
       "371340  it was awful  it was super frizzy and i tried ...   \n",
       "371344  no return instructions phone   in packaging   ...   \n",
       "\n",
       "                                            clean_summary  primary_key  \\\n",
       "9                                     i do not recommend             9   \n",
       "94                  perfect holder for my razor and brush           94   \n",
       "156     it s fine  wanted to order a replacement for t...          156   \n",
       "186         have had it a couple of weeks and works fi...          186   \n",
       "189                                         do not adjust          189   \n",
       "...                                                   ...          ...   \n",
       "371299           the dryer is a disappointment  too heavy       371299   \n",
       "371329                                           one star       371329   \n",
       "371336                     it s hard to match hair color        371336   \n",
       "371340  it was super frizzy and i tried to comb it and...       371340   \n",
       "371344         might return for a replacement if i could        371344   \n",
       "\n",
       "        polarity  \n",
       "9           -1.8  \n",
       "94          -1.6  \n",
       "156         -2.3  \n",
       "186         -0.9  \n",
       "189         -3.5  \n",
       "...          ...  \n",
       "371299      -4.4  \n",
       "371329      -1.7  \n",
       "371336      -0.4  \n",
       "371340      -0.9  \n",
       "371344      -0.3  \n",
       "\n",
       "[35851 rows x 16 columns]"
      ]
     },
     "execution_count": 185,
     "metadata": {},
     "output_type": "execute_result"
    }
   ],
   "source": [
    "def add_polarity(df, tidy_df):\n",
    "    df[\"polarity\"] = (\n",
    "        tidy_df\n",
    "        .merge(sent, how='left', left_on='word', right_index=True)\n",
    "        .reset_index()\n",
    "        .loc[:, ['index', 'polarity']]\n",
    "        .groupby('index')\n",
    "        .sum()\n",
    "        .fillna(0)\n",
    "    )\n",
    "    return df\n",
    "\n",
    "reviews = add_polarity(reviews, tidyReviewText)\n",
    "reviews.query(\"polarity<0\")"
   ]
  },
  {
   "cell_type": "markdown",
   "metadata": {},
   "source": [
    "With the polarity in place, let's see how polarity correlates with rating. We'll first do so without grouping by product and just focus on reviews."
   ]
  },
  {
   "cell_type": "code",
   "execution_count": 186,
   "metadata": {},
   "outputs": [
    {
     "data": {
      "text/plain": [
       "(-100.0, 100.0)"
      ]
     },
     "execution_count": 186,
     "metadata": {},
     "output_type": "execute_result"
    },
    {
     "data": {
      "image/png": "[encoded data removed]",
      "text/plain": [
       "<Figure size 432x288 with 1 Axes>"
      ]
     },
     "metadata": {
      "needs_background": "light"
     },
     "output_type": "display_data"
    }
   ],
   "source": [
    "sns.boxplot(x=\"overall\",y =\"polarity\",data = reviews)\n",
    "plt.ylim(-100,100)"
   ]
  },
  {
   "cell_type": "markdown",
   "metadata": {},
   "source": [
    "This is as one would expect that the polarity of reviews would go up as the rating increases. Indeed, this is the case. Let's compare the correlation now for verified and non-verified users separately and we focus only on the IQR regions and not worry about outliers."
   ]
  },
  {
   "cell_type": "code",
   "execution_count": 232,
   "metadata": {},
   "outputs": [
    {
     "data": {
      "image/png": "[encoded data removed]",
      "text/plain": [
       "<Figure size 432x288 with 1 Axes>"
      ]
     },
     "metadata": {
      "needs_background": "light"
     },
     "output_type": "display_data"
    }
   ],
   "source": [
    "sns.boxplot(x=\"overall\",y =\"polarity\",data = reviews, hue = 'verified')\n",
    "plt.ylim(-25,25)\n",
    "plt.xlabel(\"Rating\")\n",
    "plt.ylabel(\"Polarity\")\n",
    "plt.title(\"Polarity of reviews vs Rating\");"
   ]
  },
  {
   "cell_type": "markdown",
   "metadata": {},
   "source": [
    "Verified users have a narrower IQR. This is because number of verified users is way more than the number of unverified users. Hence, more variability is encountered in unverified users response."
   ]
  },
  {
   "cell_type": "code",
   "execution_count": 233,
   "metadata": {},
   "outputs": [
    {
     "data": {
      "text/plain": [
       "True     322473\n",
       "False     48872\n",
       "Name: verified, dtype: int64"
      ]
     },
     "execution_count": 233,
     "metadata": {},
     "output_type": "execute_result"
    }
   ],
   "source": [
    "reviews['verified'].value_counts()"
   ]
  },
  {
   "cell_type": "markdown",
   "metadata": {},
   "source": [
    "#### 3. Sales Rank vs Avg Rating"
   ]
  },
  {
   "cell_type": "code",
   "execution_count": null,
   "metadata": {},
   "outputs": [],
   "source": []
  },
  {
   "cell_type": "code",
   "execution_count": null,
   "metadata": {},
   "outputs": [],
   "source": []
  },
  {
   "cell_type": "code",
   "execution_count": null,
   "metadata": {},
   "outputs": [],
   "source": []
  },
  {
   "cell_type": "markdown",
   "metadata": {},
   "source": [
    "#### Is there any correlation between the variables you are interested in exploring?\n",
    "Correlations explored:\n",
    "1. Proportion of products by brand in the dataset without prices vs total products sold by that brand:\n",
    "   We observed that there was poitive correlation. Which meand uf a brand sold a larger number of products, it will have more products without prices. This shows that larger brands have to keep upgrading their inventory on Amazon to thrive.\n",
    "2. Polarity of ReviewText vs Rating: Positive correlation"
   ]
  },
  {
   "cell_type": "markdown",
   "metadata": {},
   "source": [
    "## Modeling"
   ]
  },
  {
   "cell_type": "markdown",
   "metadata": {},
   "source": [
    "Modeling Utility functions:"
   ]
  },
  {
   "cell_type": "code",
   "execution_count": 165,
   "metadata": {},
   "outputs": [],
   "source": [
    "def transform_col(data, func, feat, new_feat):\n",
    "    data[new_feat] = func(metadata_with_ratings[feat])\n",
    "    data[new_feat].describe()\n",
    "\n",
    "def extract_words(data, feat, max_words=100, encoder=None, output=True):\n",
    "    if not encoder:\n",
    "        encoder = CountVectorizer(max_features=max_words, stop_words='english')\n",
    "        encoder.fit(data[feat])\n",
    "    X = encoder.transform(data[feat]).toarray()\n",
    "\n",
    "    if output:\n",
    "        print('first 50 features:', encoder.get_feature_names()[:50])\n",
    "        print('feature matrix shape', X.shape)\n",
    "    return X, encoder\n",
    "\n",
    "def onehot_encode(data, feat, max_categories=100, encoder=None):\n",
    "    cat_counts = data[feat].value_counts()\n",
    "    categories = cat_counts[1:max_categories + 1].index.tolist()\n",
    "    raw_features = data[feat].to_numpy()[:,None]\n",
    "    if not encoder:\n",
    "        encoder = OneHotEncoder(categories=[categories], handle_unknown='ignore', sparse=False)\n",
    "        encoder.fit(raw_features)\n",
    "    return encoder.transform(raw_features), encoder\n",
    "\n",
    "def fill_missing(data, feat, imputer=None):\n",
    "    if not imputer:\n",
    "        imputer = SimpleImputer(missing_values=np.nan, strategy='mean')\n",
    "\n",
    "def standardize(X, scale_columns, encoder=None, output=True):\n",
    "    X_to_scale = X[:,scale_columns]\n",
    "    if not encoder:\n",
    "        encoder = StandardScaler()\n",
    "        encoder.fit(X_to_scale)\n",
    "    X[:,scale_columns] = encoder.transform(X_to_scale)\n",
    "    if output:\n",
    "        print('mean:', encoder.mean_)\n",
    "        print('standard deviation:', encoder.scale_)\n",
    "    return X, encoder\n",
    "\n",
    "numerical_features = ['price_float', 'sq_price', 'brand_count', 'sq_brand_count', 'top_brand']\n",
    "standardize_cols = [0, 1, 2, 3]\n",
    "\n",
    "def get_feat_matrix(data, encoders=None):\n",
    "    if not encoders:\n",
    "        encoders = [None, None, None, None]\n",
    "    X1 = data[numerical_features].to_numpy()\n",
    "    X2, encoders[0] = onehot_encode(data, 'brand', encoder=encoders[0])\n",
    "    X3, encoders[1] = extract_words(data, 'title', encoder=encoders[1], output=False)\n",
    "    X4, encoders[2] = extract_words(data, 'description_str', 500, encoder=encoders[2], output=False)\n",
    "    X = np.hstack([X1, X2, X3, X4])\n",
    "    X, encoders[3] = standardize(X, standardize_cols, encoder=encoders[3], output=False)\n",
    "    return X, encoders\n",
    "\n",
    "def get_feature_names(encoders):\n",
    "    features = np.append(numerical_features, encoders[0].get_feature_names())\n",
    "    features = np.append(features, np.char.add('title_', encoders[1].get_feature_names()))\n",
    "    features = np.append(features, np.char.add('descr_', encoders[2].get_feature_names()))\n",
    "    return features\n",
    "\n",
    "def train_test_split(data, label):\n",
    "    data_train, data_test, y_train, y_test = \\\n",
    "            model_selection.train_test_split(data, data[label], test_size=0.2, random_state=314)\n",
    "    clean_features(data_train, training_data=data_train, output=False)\n",
    "    clean_features(data_test, training_data=data_train, output=False)\n",
    "    X_train, encoders = get_feat_matrix(data_train)\n",
    "    X_test, _ = get_feat_matrix(data_test, encoders=encoders)\n",
    "    print(f'Training data of shape {X_train.shape}, test data {X_test.shape}')\n",
    "    return X_train, X_test, y_train, y_test\n",
    "\n",
    "def rmse(y, y_pred):\n",
    "    return np.sqrt(mean_squared_error(y, y_pred))\n",
    "\n",
    "def mean_proportional_error(y, y_pred):\n",
    "    return np.sqrt(np.mean(((y - y_pred) / y)**2))\n",
    "\n",
    "def train_ridge(X_train, X_test, y_train, y_test):\n",
    "    alpha_exponents = np.arange(-5, 5, 0.2) * np.log(10)\n",
    "    model = RidgeCV(alphas=np.exp(alpha_exponents))\n",
    "    return train_model(X_train, X_test, y_train, y_test, model)\n",
    "    \n",
    "def train_model(X_train, X_test, y_train, y_test, model):\n",
    "    model.fit(X_train, y_train)\n",
    "    \n",
    "    y_train_pred = model.predict(X_train)\n",
    "    y_test_pred = model.predict(X_test)\n",
    "    train_r2 = model.score(X_train, y_train)\n",
    "    test_r2 = model.score(X_test, y_test)\n",
    "    train_loss = rmse(y_train, y_train_pred)\n",
    "    test_loss = rmse(y_test, y_test_pred)\n",
    "    train_err = mean_proportional_error(y_train, y_train_pred)\n",
    "    test_err = mean_proportional_error(y_test, y_test_pred)\n",
    "    \n",
    "    print('training r^2:', train_r2)\n",
    "    print('test r^2:', test_r2)\n",
    "    print('training loss:', train_loss)\n",
    "    print('test loss:', test_loss)\n",
    "    print('training proportional loss:', train_err)\n",
    "    print('test proportional loss:', test_err)\n",
    "    return model"
   ]
  },
  {
   "cell_type": "code",
   "execution_count": 166,
   "metadata": {},
   "outputs": [],
   "source": [
    "label = 'sqrt_rank'"
   ]
  },
  {
   "cell_type": "code",
   "execution_count": 167,
   "metadata": {},
   "outputs": [
    {
     "name": "stdout",
     "output_type": "stream",
     "text": [
      "Training data of shape (8889, 705), test data (2223, 705)\n"
     ]
    }
   ],
   "source": [
    "X_train, X_test, y_train, y_test = train_test_split(metadata_available, label)"
   ]
  },
  {
   "cell_type": "markdown",
   "metadata": {},
   "source": [
    "### Ridge regression"
   ]
  },
  {
   "cell_type": "code",
   "execution_count": 169,
   "metadata": {},
   "outputs": [
    {
     "name": "stdout",
     "output_type": "stream",
     "text": [
      "training r^2: 0.1290137903390789\n",
      "test r^2: 0.05060148200534276\n",
      "training loss: 342.12469890208564\n",
      "test loss: 346.91120540853876\n",
      "training proportional loss: 1.659897619842171\n",
      "test proportional loss: 2.8809392428885934\n"
     ]
    }
   ],
   "source": [
    "model = train_ridge(X_train, X_test, y_train, y_test)"
   ]
  },
  {
   "cell_type": "code",
   "execution_count": 170,
   "metadata": {},
   "outputs": [
    {
     "data": {
      "text/plain": [
       "array([ 693, -440, -160,  349,   57,   48,   36,   19,    2,   -5,    2,\n",
       "         24, -124,   54,  -26,  -29,   99,   -7,   89,  -95,  205,  -25,\n",
       "        -37,   70,  -42, -129,  135,    3,   27,  -64,   21,   30,   39,\n",
       "        -69,   15,   17,   60, -109,  -51,   12,    8,    1,   14,  -24,\n",
       "         27,  -58,  -99,  -39,  -31,  -11,   11,  -48,   16,   23,  -26,\n",
       "         32,  -41,   -6,  -48,  -59,    4,  -46,   15,   54, -101,  -16,\n",
       "        -41,   23,  -13,  -26,  -29,  -64,   -7,   26,   -2,   41,   25,\n",
       "          1,  -38,  -17,   13,  -38,  -36,  -30,   -9,  -30,   28,  -19,\n",
       "         37,   -7,   30,  -51,  -11,   -8,  -31,   25,  -35,    0,  -30,\n",
       "          8,  -11,   55,   31,   25,  -32,  -14,  -71,  -73,   50,   26,\n",
       "       -153,  -62,  -84, -219,  137,   59, -119,   16,  318,   94,  107,\n",
       "         29,  135,  -12,  -57,   38,  -32,  179,   25, -129,  -59,   17,\n",
       "        205,  -58,  -86, -310, -332,   28,  -53,  -52,  139,   27,   20,\n",
       "       -246, -119,   47,   97, -126, -115,   97,   29,   89,   10,   51,\n",
       "          5, -131,  -83,   49, -139,  -74,    4, -176, -114,  -16,  -72,\n",
       "       -149,  -38,  -86,  152,    0,   -5,   75,   -5, -161, -730, -177,\n",
       "       -146,    4,  -55,   73,  114, -221, -132,  -86,  280,   98,  210,\n",
       "         63, -106,  -59,   51,   13,   32, -345,   26,  164,   93,   20,\n",
       "         61, -195,  -94,   48,   47,  125,  -21, -111,  -37,    6,  -87,\n",
       "       -106,  -79,  -83,  -43,   11,  -86, -108,  -19,   39,  -70, -106,\n",
       "        -58,  -41,   -8, -133,  -41,  -48,    4,  -76, -153,  -52,  -43,\n",
       "        -41,    8,   78,  169,   55, -227, -126,  -41, -141,   28,    2,\n",
       "         -7,  -38,  -65,   -6,  -24,  -42,  -73, -118,  -19, -104,  -96,\n",
       "         57,   91, -130,  -33,  -30,  -44,  -64,   -5,  -96,  155,  -33,\n",
       "       -100, -106,    5,  114,   24,    1,   27,  -31,   88,  -65,  -28,\n",
       "         54,   95,   29,   99, -126, -214, -196, -150, -118, -236, -151,\n",
       "        153,   65,  -30,  -87,  215,   54,   34,   86,   43, -173, -118,\n",
       "        -57,  -17, -106,  140,   14,  -92,  104,  -63,   17,   30, -231,\n",
       "          6, -128,  -13,   70, -125, -200, -128, -189, -128, -153,  -69,\n",
       "         50,   17, -127,   59, -146, -139,  108,  185,  -45,  -79,   24,\n",
       "        -86,   87,  184,  125,  -85,   38,  -56,   90,  -48,   -2, -104,\n",
       "        -88,  -57,   -3, -104,  264,   63,  -48,  107, -140,   61,   32,\n",
       "        -79,  149, -107,   77,  -44,   54,  -36,   54,  -95,  -62,  -22,\n",
       "       -169,   30, -179,   30,   14, -133,  -42,   64,   23,  -42,   61,\n",
       "        -57,  -81, -302,  -74, -223,  -25, -120,   64,  -33,   34, -180,\n",
       "        -65,  -91,  241, -156,   66,    4,  -80,   57, -114,  -66,   -9,\n",
       "        -52,   30, -122, -111,   50,  103,  -96,   14,   74,   67,   19,\n",
       "       -124, -125, -261,  106,   69,   72, -176,  -67,  -23,  -33,    9,\n",
       "         16,    2,  -52,   31,    8,  -91,  -41,    2,   16,  -23,  -43,\n",
       "         -5,  -78, -134,  -65, -102, -213, -233,   25,   75,   70,  -64,\n",
       "         58,  -75, -105,  -51,    4,   33,  -80,  -93, -177, -120,  -32,\n",
       "       -118, -234,   47,  -92,  102,   -4,  -67, -171,   65,  -94,  -73,\n",
       "        -20,   27,   58,   63,  -48,   27,   61, -102,  -50,  -13, -203,\n",
       "        -26,   22,   -8,  -81,  107,   28, -124, -107,  145,  -85,  -40,\n",
       "         21, -157, -112, -116,  100,  -96,   82,  134,   39,  -98,   34,\n",
       "       -127, -112,  -51,   22, -120,   30,   87, -119,  -31,    5,  -46,\n",
       "         29, -117, -148,   45,   -2,   41,    0, -214,   87,    6,  153,\n",
       "       -106, -180,   53,    5,  -40,  -29,   -8,  -91,  -73,  -14,  -52,\n",
       "       -172, -117,   43, -176,    4,   46,  -66,   41,  -12,   72,   25,\n",
       "        -42,   73,   35,  126,  -10,   -8, -187, -117,   43, -146,   -6,\n",
       "         13,  138, -223,  -89, -117,  -49, -105,  -48, -158, -108, -325,\n",
       "        -74,   85,  108,  -23,   60, -220, -166, -104,  195,   63,  -68,\n",
       "        -15, -219,   10, -154,  -17, -240, -115,    3, -225,  -51,   73,\n",
       "         -6,   68, -163, -177,  -47,  -67,   29,  -83,   43,    2, -173,\n",
       "        -50,   69,  170,   -4,   64, -110,  -97,   25, -251,  -15,   30,\n",
       "        140,   80,  138,  -38,   78,   51,  -16,  -12,  -67,  -28,  -53,\n",
       "       -118,  -19,   54,   40, -278,   -6,   32,  -34,  -29,  -35,  -91,\n",
       "        177,   17,   -5,  -42,    8,   24,  -74,  -66, -150,  140,  -43,\n",
       "         61, -203,  -97,   14, -144,    0,  120, -114,  140,  -30,  -74,\n",
       "        -53,   94, -142, -132,  -42, -103,    5,  -90,  119, -120,  -92,\n",
       "        -52, -101,   62,  -51,  -17,  -28,  -68, -169,   65,   61,  105,\n",
       "       -113,    5,   -2,    3, -137,  -75,  -31,   21,  -63,  112,  -36,\n",
       "         51,   87, -107, -209,  -90,   92,  101,  -67, -189,  -38,  188,\n",
       "         20,  -23,   24,    0,   37,  -26,   -4,    5,   33,  -14,   82,\n",
       "        -61])"
      ]
     },
     "execution_count": 170,
     "metadata": {},
     "output_type": "execute_result"
    }
   ],
   "source": [
    "np.round(model.coef_ * 10).astype(int)"
   ]
  },
  {
   "cell_type": "code",
   "execution_count": 192,
   "metadata": {},
   "outputs": [
    {
     "ename": "TypeError",
     "evalue": "'NoneType' object is not subscriptable",
     "output_type": "error",
     "traceback": [
      "\u001b[1;31m---------------------------------------------------------------------------\u001b[0m",
      "\u001b[1;31mTypeError\u001b[0m                                 Traceback (most recent call last)",
      "\u001b[1;32m<ipython-input-192-6a5366161528>\u001b[0m in \u001b[0;36m<module>\u001b[1;34m\u001b[0m\n\u001b[0;32m      1\u001b[0m \u001b[0mn\u001b[0m \u001b[1;33m=\u001b[0m \u001b[1;36m5\u001b[0m\u001b[1;33m\u001b[0m\u001b[1;33m\u001b[0m\u001b[0m\n\u001b[1;32m----> 2\u001b[1;33m \u001b[0mfeats\u001b[0m \u001b[1;33m=\u001b[0m \u001b[0mget_feature_names\u001b[0m\u001b[1;33m(\u001b[0m\u001b[1;32mNone\u001b[0m\u001b[1;33m)\u001b[0m\u001b[1;33m\u001b[0m\u001b[1;33m\u001b[0m\u001b[0m\n\u001b[0m\u001b[0;32m      3\u001b[0m \u001b[0mtop_coefs\u001b[0m \u001b[1;33m=\u001b[0m \u001b[0mnp\u001b[0m\u001b[1;33m.\u001b[0m\u001b[0margsort\u001b[0m\u001b[1;33m(\u001b[0m\u001b[1;33m-\u001b[0m\u001b[0mnp\u001b[0m\u001b[1;33m.\u001b[0m\u001b[0mabs\u001b[0m\u001b[1;33m(\u001b[0m\u001b[0mmodel\u001b[0m\u001b[1;33m.\u001b[0m\u001b[0mcoef_\u001b[0m\u001b[1;33m)\u001b[0m\u001b[1;33m)\u001b[0m\u001b[1;33m[\u001b[0m\u001b[1;33m:\u001b[0m\u001b[0mn\u001b[0m\u001b[1;33m]\u001b[0m\u001b[1;33m\u001b[0m\u001b[1;33m\u001b[0m\u001b[0m\n\u001b[0;32m      4\u001b[0m \u001b[0mprint\u001b[0m\u001b[1;33m(\u001b[0m\u001b[1;34m'top features for Ridge model:'\u001b[0m\u001b[1;33m,\u001b[0m \u001b[0mfeats\u001b[0m\u001b[1;33m[\u001b[0m\u001b[0mtop_coefs\u001b[0m\u001b[1;33m]\u001b[0m\u001b[1;33m)\u001b[0m\u001b[1;33m\u001b[0m\u001b[1;33m\u001b[0m\u001b[0m\n",
      "\u001b[1;32m<ipython-input-165-bace3159c72b>\u001b[0m in \u001b[0;36mget_feature_names\u001b[1;34m(encoders)\u001b[0m\n\u001b[0;32m     53\u001b[0m \u001b[1;33m\u001b[0m\u001b[0m\n\u001b[0;32m     54\u001b[0m \u001b[1;32mdef\u001b[0m \u001b[0mget_feature_names\u001b[0m\u001b[1;33m(\u001b[0m\u001b[0mencoders\u001b[0m\u001b[1;33m)\u001b[0m\u001b[1;33m:\u001b[0m\u001b[1;33m\u001b[0m\u001b[1;33m\u001b[0m\u001b[0m\n\u001b[1;32m---> 55\u001b[1;33m     \u001b[0mfeatures\u001b[0m \u001b[1;33m=\u001b[0m \u001b[0mnp\u001b[0m\u001b[1;33m.\u001b[0m\u001b[0mappend\u001b[0m\u001b[1;33m(\u001b[0m\u001b[0mnumerical_features\u001b[0m\u001b[1;33m,\u001b[0m \u001b[0mencoders\u001b[0m\u001b[1;33m[\u001b[0m\u001b[1;36m0\u001b[0m\u001b[1;33m]\u001b[0m\u001b[1;33m.\u001b[0m\u001b[0mget_feature_names\u001b[0m\u001b[1;33m(\u001b[0m\u001b[1;33m)\u001b[0m\u001b[1;33m)\u001b[0m\u001b[1;33m\u001b[0m\u001b[1;33m\u001b[0m\u001b[0m\n\u001b[0m\u001b[0;32m     56\u001b[0m     \u001b[0mfeatures\u001b[0m \u001b[1;33m=\u001b[0m \u001b[0mnp\u001b[0m\u001b[1;33m.\u001b[0m\u001b[0mappend\u001b[0m\u001b[1;33m(\u001b[0m\u001b[0mfeatures\u001b[0m\u001b[1;33m,\u001b[0m \u001b[0mnp\u001b[0m\u001b[1;33m.\u001b[0m\u001b[0mchar\u001b[0m\u001b[1;33m.\u001b[0m\u001b[0madd\u001b[0m\u001b[1;33m(\u001b[0m\u001b[1;34m'title_'\u001b[0m\u001b[1;33m,\u001b[0m \u001b[0mencoders\u001b[0m\u001b[1;33m[\u001b[0m\u001b[1;36m1\u001b[0m\u001b[1;33m]\u001b[0m\u001b[1;33m.\u001b[0m\u001b[0mget_feature_names\u001b[0m\u001b[1;33m(\u001b[0m\u001b[1;33m)\u001b[0m\u001b[1;33m)\u001b[0m\u001b[1;33m)\u001b[0m\u001b[1;33m\u001b[0m\u001b[1;33m\u001b[0m\u001b[0m\n\u001b[0;32m     57\u001b[0m     \u001b[0mfeatures\u001b[0m \u001b[1;33m=\u001b[0m \u001b[0mnp\u001b[0m\u001b[1;33m.\u001b[0m\u001b[0mappend\u001b[0m\u001b[1;33m(\u001b[0m\u001b[0mfeatures\u001b[0m\u001b[1;33m,\u001b[0m \u001b[0mnp\u001b[0m\u001b[1;33m.\u001b[0m\u001b[0mchar\u001b[0m\u001b[1;33m.\u001b[0m\u001b[0madd\u001b[0m\u001b[1;33m(\u001b[0m\u001b[1;34m'descr_'\u001b[0m\u001b[1;33m,\u001b[0m \u001b[0mencoders\u001b[0m\u001b[1;33m[\u001b[0m\u001b[1;36m2\u001b[0m\u001b[1;33m]\u001b[0m\u001b[1;33m.\u001b[0m\u001b[0mget_feature_names\u001b[0m\u001b[1;33m(\u001b[0m\u001b[1;33m)\u001b[0m\u001b[1;33m)\u001b[0m\u001b[1;33m)\u001b[0m\u001b[1;33m\u001b[0m\u001b[1;33m\u001b[0m\u001b[0m\n",
      "\u001b[1;31mTypeError\u001b[0m: 'NoneType' object is not subscriptable"
     ]
    }
   ],
   "source": [
    "n = 5\n",
    "feats = get_feature_names(None)\n",
    "top_coefs = np.argsort(-np.abs(model.coef_))[:n]\n",
    "print('top features for Ridge model:', feats[top_coefs])"
   ]
  },
  {
   "cell_type": "markdown",
   "metadata": {},
   "source": [
    "### Random forest"
   ]
  },
  {
   "cell_type": "code",
   "execution_count": 193,
   "metadata": {},
   "outputs": [
    {
     "name": "stdout",
     "output_type": "stream",
     "text": [
      "training r^2: 0.5104076264677603\n",
      "test r^2: 0.1295601458891057\n",
      "training loss: 256.50516282185976\n",
      "test loss: 332.17231790662316\n",
      "training proportional loss: 0.8914759825516005\n",
      "test proportional loss: 1.9412341338033103\n"
     ]
    }
   ],
   "source": [
    "# Setting n_estimators to be greater increases r^2 slightly but takes much longer, so I just went with\n",
    "# the default. Set n_jobs to make it faster.\n",
    "model = train_model(X_train, X_test, y_train, y_test, RandomForestRegressor(max_depth=27, n_jobs=4))"
   ]
  },
  {
   "cell_type": "markdown",
   "metadata": {},
   "source": [
    "### SVM"
   ]
  },
  {
   "cell_type": "code",
   "execution_count": 173,
   "metadata": {},
   "outputs": [
    {
     "name": "stdout",
     "output_type": "stream",
     "text": [
      "training r^2: 0.25897563232075194\n",
      "test r^2: 0.11712885367076808\n",
      "training loss: 315.5695085585726\n",
      "test loss: 334.5358885168373\n",
      "training proportional loss: 1.2870068428920107\n",
      "test proportional loss: 2.0201616210398874\n"
     ]
    }
   ],
   "source": [
    "# May take several minutes to train.\n",
    "model = train_model(X_train, X_test, y_train, y_test, SVR(C=250))"
   ]
  },
  {
   "cell_type": "markdown",
   "metadata": {},
   "source": [
    "Here are a few components your notebook must address:\n",
    "- What type of machine learning problem are you investigating?\n",
    "- What model do you plan on using and why?\n",
    "- Does your model require hyperparameter tuning? If so, how do you approach it?\n",
    "- How do you engineer the features for your model? What are the rationales behind selecting these features?\n",
    "- How do you perform cross validation on your model?\n",
    "- What loss metrics are you using to evaluate your model?\n",
    "- From a bias-variance tradeoff standpoint, how do you assess the performance of your model? How do you check if it is overfitting?\n",
    "- How would you improve your model based on the outcome?"
   ]
  },
  {
   "cell_type": "markdown",
   "metadata": {},
   "source": []
  }
 ],
 "metadata": {
  "kernelspec": {
   "display_name": "Python 3",
   "language": "python",
   "name": "python3"
  },
  "language_info": {
   "codemirror_mode": {
    "name": "ipython",
    "version": 3
   },
   "file_extension": ".py",
   "mimetype": "text/x-python",
   "name": "python",
   "nbconvert_exporter": "python",
   "pygments_lexer": "ipython3",
   "version": "3.8.5"
  }
 },
 "nbformat": 4,
 "nbformat_minor": 4
}
