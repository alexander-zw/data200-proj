{
 "cells": [
  {
   "cell_type": "markdown",
   "metadata": {},
   "source": [
    "# Predicting Sales Rank for a Product on Amazon using Product Description\n",
    "\n",
    "#### DATA 200, Spring 2021\n",
    "#### Final Project\n",
    "#### Project members:\n",
    "- Alexander Wu, 3032676584, alexwu68@berkeley.edu\n",
    "- Jonathan Kupfer, 25718319, jkupfer@berkeley.edu\n",
    "- Utkarsh Yadav, 3035277597, utkarsh_yadav@berkeley.edu\n",
    "\n"
   ]
  },
  {
   "cell_type": "markdown",
   "metadata": {},
   "source": [
    "## Introduction\n",
    "This project aims to predict the sales rank for a product on Amazon in a specific category of data, given the product's metadata. \n",
    "\n",
    "## Motivation\n",
    "Our target for this project is new venders who are interested in adding a product to Amazon. This model is helpful for them to understand what information (keywords, description, etc) can be used to improve a product's sales rank within its category.\n",
    "\n",
    "## Research Question\n",
    "Can the metadata of Amazon products for a given category be used to predict the product's sales rank?\n",
    "\n",
    "## Literature Review\n"
   ]
  },
  {
   "cell_type": "markdown",
   "metadata": {},
   "source": [
    "\n",
    "## Methodolgy\n",
    "\n",
    "### Description of the data:\n",
    "This report studies two datasets. The reviews datasets and the metadata dataset. This study is on three categories of products on Amazon: Musical Instruments, Softwares and Beauty. The attributes of the metadata dataset along with a short description for each attribute is provided below:\n",
    "- `asin` - ID of the product, e.g. 0000031852\n",
    "- `title` - name of the product\n",
    "- `feature` - bullet-point format features of the product\n",
    "- `description` - description of the product\n",
    "- `price` - price in US dollars (at time of crawl)\n",
    "- `image` - url of the product image\n",
    "- `related` - related products (also bought, also viewed, bought together, buy after viewing)\n",
    "- `salesRank` - sales rank information\n",
    "- `brand` - brand name\n",
    "- `categories` - list of categories the product belongs to\n",
    "- `tech1` - the first technical detail table of the product\n",
    "- `tech2` - the second technical detail table of the product\n",
    "- `similar` - similar product table\n",
    "\n",
    "Similarly the attributes of the reviews dataset:\n",
    "- `reviewerID` - ID of the reviewer, e.g. A2SUAM1J3GNN3B\n",
    "- `asin` - ID of the product, e.g. 0000013714\n",
    "- `reviewerName` - name of the reviewer\n",
    "- `vote` - helpful votes of the review\n",
    "- `style` - a disctionary of the product metadata, e.g., \"Format\" is \"Hardcover\"\n",
    "- `reviewText` - text of the review\n",
    "- `overall` - rating of the product\n",
    "- `summary` - summary of the review\n",
    "- `unixReviewTime` - time of the review (unix time)\n",
    "- `reviewTime` - time of the review (raw)\n",
    "- `image` - images that users post after they have received the product\n",
    "\n",
    "For the reviews dataset, we are specifically looking at the 5-core reviews. A k-core review dataset is a suset of the entire reviews dataset in which all users and items have at least 5 reviews. This dataset is smaller and less expensive on the computer memory.\n",
    "\n",
    "### Description of methods:\n",
    "\n"
   ]
  },
  {
   "cell_type": "markdown",
   "metadata": {},
   "source": [
    "## Summary of results:\n",
    "\n",
    "### Missing prices:\n",
    "The metadata dataset for the Software category has several products with missing prices. This initially came as a surprise and is also concerning as price is an important feature in our model. About 75% of the products were missing prices. \n",
    "It was found that most of these were old products that were once sold on Amazon but were now replaced by their better/improved versions. The image below lists one such product. Notice, how the product landing page says **Currently Unavailable**.\n",
    "\n",
    "**** Insert figure from Amazon ****\n",
    "\n",
    "Certain visualizations can help us explore this further. Fig. aaa shows a scatter plot between the proportions of products missing prices for a brand vs the total products that brand ever sold. It is important to note that the X axis is not the total sales but the total products by the brand that are listed on Amazon.\n",
    "\n",
    "\n",
    "**** Insert scatter ****\n",
    "\n",
    "\n",
    "But this probably includes a lot of brands which only ever sold a few products and shut down(notice so many scatter dots at y =1 close to x=0). If we only include brands which have atleast a few products with active prices and have sold a minimum of 100 products on Amazon we see that most of the scatter is above y = 0.5.\n",
    "\n",
    "\n",
    "**** Insert filtered scatter ****\n",
    "\n",
    "This shows how big brands especially in the tech industry keep improving and releasing new/revised products to survive the Amazon marketplace. It is astonishing how quickly the inventory has to evolve. The right most point is Microsoft with a total of roughly 1200 products in the dataset it is only actively selling about 175.\n",
    "\n",
    "### Sentiment of reviews:\n",
    "We again look at the Software category, however, this analysis can be performed for all the categories in this study. Sentiment itself is not a feature of this model but this analysis was done to see how the sentiment varies with the prices of products.\n",
    "To get the polarity of the review text, VADER was used. \n",
    "As a part of the data cleaning process, all the punctuation was removed and the text was converted to lower case. Once extracted, we first observe polarity vs overall rating in each review. \n",
    "\n",
    "**** Insert box plot ****\n",
    "\n",
    "Overall, it seems there is a positive correlation between polarity and the rating as one would expect, however as the rating goes from 4.0  to 5.0 we observe a dip in the box plot statistics. We further explore this by differentiating the reviews over verified and unverified users.\n",
    "\n",
    "**** Insert box plot with hue****\n",
    "\n",
    "It seems the dip is largely observed due to the reviews by unverified users. This sheds some light on the seriousness of reviews by unverfied users. However, one can also argue that a reviewr reaches a certain level of saturation in praising a product at 4.0 rating. One should also note that a lot of reviews are bound to have spelling mistakes which would not be recognized by VADER.\n",
    "\n",
    "\n"
   ]
  },
  {
   "cell_type": "markdown",
   "metadata": {},
   "source": [
    "## Discussion:\n",
    "Analysis of your findings to answer your research question(s). Include visualizations and specific results. If your research questions contain a modeling component, you must compare the results using different inference or prediction methods (e.g., linear regression, logistic regression, or classification and regression trees). Can you explain why some methods performed better than others?\n"
   ]
  },
  {
   "cell_type": "markdown",
   "metadata": {},
   "source": [
    "## Limitations:\n",
    "An evaluation of your approach and discuss any limitations of the methods you used."
   ]
  },
  {
   "cell_type": "markdown",
   "metadata": {},
   "source": [
    "## Surprises and future work:\n",
    "Describe any surprising discoveries that you made and future work."
   ]
  },
  {
   "cell_type": "code",
   "execution_count": null,
   "metadata": {},
   "outputs": [],
   "source": []
  }
 ],
 "metadata": {
  "language_info": {
   "name": "python",
   "pygments_lexer": "ipython3"
  }
 },
 "nbformat": 4,
 "nbformat_minor": 4
}
