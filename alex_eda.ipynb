{
 "cells": [
  {
   "cell_type": "markdown",
   "metadata": {},
   "source": [
    "## Useful links:"
   ]
  },
  {
   "cell_type": "markdown",
   "metadata": {},
   "source": [
    "- [Dataset documentation](https://nijianmo.github.io/amazon/index.html)\n",
    "- [Complete Metadata files](http://deepyeti.ucsd.edu/jianmo/amazon/index.html)\n",
    "- [Pandas reference sheet](https://ds100.org/sp21/resources/assets/exams/sp20/sp20_checkpoint_reference_sheet.pdf)\n",
    "- [Data-200 Google Doc](https://docs.google.com/document/d/19HWODy5kpWoUB7BEKEmKLbRnK8MC1fBmRat_WP7vfNc/edit)\n",
    "- [Grad Project Guidelines](https://ds100.org/sp21/grad_proj/gradproject/)"
   ]
  },
  {
   "cell_type": "markdown",
   "metadata": {},
   "source": [
    "## Utils"
   ]
  },
  {
   "cell_type": "code",
   "execution_count": null,
   "metadata": {},
   "outputs": [],
   "source": [
    "# Imports.\n",
    "\n",
    "import os\n",
    "import json\n",
    "import gzip\n",
    "import urllib.request\n",
    "from urllib.request import urlopen\n",
    "import numpy as np\n",
    "import pandas as pd\n",
    "import matplotlib.pyplot as plt\n",
    "import seaborn as sns\n",
    "from sklearn.linear_model import LinearRegression\n",
    "from sklearn.feature_extraction.text import CountVectorizer"
   ]
  },
  {
   "cell_type": "code",
   "execution_count": null,
   "metadata": {},
   "outputs": [],
   "source": [
    "# Utils.\n",
    "\n",
    "#################################### Loading data. ####################################\n",
    "\n",
    "def load_data(url, filename):\n",
    "    if not os.path.exists(filename):\n",
    "        urllib.request.urlretrieve(url,filename)\n",
    "        \n",
    "    # Load the data.\n",
    "    data = []\n",
    "    with gzip.open(filename) as f:\n",
    "        for l in f:\n",
    "            data.append(json.loads(l.strip()))\n",
    "    \n",
    "    df = pd.DataFrame.from_dict(data)\n",
    "    print('data shape:', df.shape)\n",
    "    print('first rows of data:')\n",
    "    display(df.head(3))\n",
    "    return df\n",
    "\n",
    "def get_metadata_with_ratings(reviews, metadata):\n",
    "    ratings = reviews[['asin', 'overall']].groupby('asin').agg('mean').rename(columns={'overall': 'rating'})\n",
    "    metadata_with_ratings = metadata.merge(ratings, how=\"left\", on=\"asin\")\n",
    "    \n",
    "    # Check how many products have ratings.\n",
    "    print('distribution of ratings:')\n",
    "    display(metadata_with_ratings['rating'].describe())\n",
    "    print('number of missing ratings:', metadata_with_ratings['rating'].isnull().sum())\n",
    "    return metadata_with_ratings\n",
    "\n",
    "################################## Data exploration. ##################################\n",
    "\n",
    "def describe_feat(data, feat):\n",
    "    display(data[feat].describe())\n",
    "    print(f'number of missing {feat}s:', data[feat].isnull().sum())\n",
    "\n",
    "def plot_joint(data, x, y):\n",
    "    sns.jointplot(data=data, x=x, y=y, kind='reg',\n",
    "                  scatter_kws={'alpha': 0.1, 's': 15}, line_kws={'color': 'r'})\n",
    "    data_cleaned = data.query(f'not {x}.isnull() and not {y}.isnull()')\n",
    "    X = data_cleaned[x].to_numpy().reshape(-1, 1)\n",
    "    model = LinearRegression().fit(X, data_cleaned[y])\n",
    "    print(f'y = {model.intercept_} + {model.coef_[0]} * x, r^2 = {model.score(X, data_cleaned[y])}')\n",
    "    \n",
    "###################################### Modeling. ######################################\n",
    "\n",
    "def clean_features(metadata_with_ratings):\n",
    "    # Clean price.\n",
    "    metadata_with_ratings['price_float'] = pd.to_numeric(\n",
    "            metadata_with_ratings['price'].str.replace('$', ''), errors='coerce')\n",
    "    describe_feat(metadata_with_ratings, 'price_float')\n",
    "    \n",
    "    # Clean sales rank.\n",
    "    metadata_with_ratings['rank_float'] = pd.to_numeric(metadata_with_ratings['rank'].str.replace(',', '') \\\n",
    "                                                      .str.extract('^(\\d+)', expand=False), errors='coerce')\n",
    "    describe_feat(metadata_with_ratings, 'rank_float')\n",
    "    \n",
    "    # Add sales rank category.\n",
    "    metadata_with_ratings['rank_category'] = metadata_with_ratings['rank'] \\\n",
    "                .str.extract(' in (.+) \\(', expand=False) \\\n",
    "                .str.replace('&amp;', '&')\n",
    "    print('categories:')\n",
    "    print(metadata_with_ratings['rank_category'].value_counts())\n",
    "    \n",
    "    # Clean description.\n",
    "    metadata_with_ratings['description_str'] = metadata_with_ratings['description'].str.join('\\n')\n",
    "    \n",
    "def transform_col(data, func, feat, new_feat):\n",
    "    data[new_feat] = func(metadata_with_ratings[feat])\n",
    "    data[new_feat].describe()\n",
    "\n",
    "def extract_words(data, feat, max_words=100):\n",
    "    vectorizer = CountVectorizer(max_features=max_words, stop_words='english')\n",
    "    X = vectorizer.fit_transform(data[feat]).toarray()\n",
    "\n",
    "    print('first 50 features:', vectorizer.get_feature_names()[:50])\n",
    "    print('feature matrix shape', X.shape)\n",
    "    return X\n",
    "\n",
    "def get_feat_matrix(data):\n",
    "    pass"
   ]
  },
  {
   "cell_type": "markdown",
   "metadata": {},
   "source": [
    "## Load data"
   ]
  },
  {
   "cell_type": "markdown",
   "metadata": {},
   "source": [
    "### Column labels:"
   ]
  },
  {
   "cell_type": "markdown",
   "metadata": {},
   "source": [
    "Reviews:\n",
    "\n",
    "- reviewerID - ID of the reviewer, e.g. A2SUAM1J3GNN3B\n",
    "- asin - ID of the product, e.g. 0000013714\n",
    "- reviewerName - name of the reviewer\n",
    "- vote - helpful votes of the review\n",
    "- style - a disctionary of the product metadata, e.g., \"Format\" is \"Hardcover\"\n",
    "- reviewText - text of the review\n",
    "- overall - rating of the product\n",
    "- summary - summary of the review\n",
    "- unixReviewTime - time of the review (unix time)\n",
    "- reviewTime - time of the review (raw)\n",
    "- image - images that users post after they have received the product"
   ]
  },
  {
   "cell_type": "markdown",
   "metadata": {},
   "source": [
    "Metadata:\n",
    "\n",
    "- asin - ID of the product, e.g. 0000031852\n",
    "- title - name of the product\n",
    "- feature - bullet-point format features of the product\n",
    "- description - description of the product\n",
    "- price - price in US dollars (at time of crawl)\n",
    "- image - url of the product image\n",
    "- related - related products (also bought, also viewed, bought together, buy after viewing)\n",
    "- salesRank - sales rank information\n",
    "- brand - brand name\n",
    "- categories - list of categories the product belongs to\n",
    "- tech1 - the first technical detail table of the product\n",
    "- tech2 - the second technical detail table of the product\n",
    "- similar - similar product table"
   ]
  },
  {
   "cell_type": "markdown",
   "metadata": {},
   "source": [
    "### Import data"
   ]
  },
  {
   "cell_type": "code",
   "execution_count": null,
   "metadata": {},
   "outputs": [],
   "source": [
    "url = \"http://deepyeti.ucsd.edu/jianmo/amazon/categoryFiles/All_Beauty.json.gz\"\n",
    "filename = 'data/All_Beauty.json.gz'\n",
    "reviews = load_data(url, filename)"
   ]
  },
  {
   "cell_type": "code",
   "execution_count": null,
   "metadata": {},
   "outputs": [],
   "source": [
    "url = \"http://deepyeti.ucsd.edu/jianmo/amazon/metaFiles/meta_All_Beauty.json.gz\"\n",
    "filename = 'data/Meta_All_Beauty.json.gz'\n",
    "metadata = load_data(url, filename)"
   ]
  },
  {
   "cell_type": "markdown",
   "metadata": {},
   "source": [
    "### Merge reviews and metadata"
   ]
  },
  {
   "cell_type": "code",
   "execution_count": null,
   "metadata": {},
   "outputs": [],
   "source": [
    "metadata_with_ratings = get_metadata_with_ratings(reviews, metadata)"
   ]
  },
  {
   "cell_type": "markdown",
   "metadata": {},
   "source": [
    "### Clean features"
   ]
  },
  {
   "cell_type": "code",
   "execution_count": null,
   "metadata": {},
   "outputs": [],
   "source": [
    "clean_features(metadata_with_ratings)"
   ]
  },
  {
   "cell_type": "code",
   "execution_count": null,
   "metadata": {},
   "outputs": [],
   "source": [
    "transform_col(metadata_with_ratings, np.log, 'rank_float', 'log_rank')\n",
    "transform_col(metadata_with_ratings, np.sqrt, 'rank_float', 'sqrt_rank')"
   ]
  },
  {
   "cell_type": "code",
   "execution_count": null,
   "metadata": {},
   "outputs": [],
   "source": [
    "metadata_beauty = metadata_with_ratings.query('rank_category == \"Beauty & Personal Care\"')"
   ]
  },
  {
   "cell_type": "markdown",
   "metadata": {},
   "source": [
    "## Data exploration"
   ]
  },
  {
   "cell_type": "markdown",
   "metadata": {},
   "source": [
    "### Sales rank vs average rating"
   ]
  },
  {
   "cell_type": "code",
   "execution_count": null,
   "metadata": {},
   "outputs": [],
   "source": [
    "# The two products with no reviews.\n",
    "metadata_beauty.query('rating.isnull()')"
   ]
  },
  {
   "cell_type": "markdown",
   "metadata": {},
   "source": [
    "The following three plots show the correlation between sales rank and average rating. The correlation is most apparent when taking the log of sales rank."
   ]
  },
  {
   "cell_type": "code",
   "execution_count": null,
   "metadata": {},
   "outputs": [],
   "source": [
    "plot_joint(data=metadata_beauty, x='log_rank', y='rating')"
   ]
  },
  {
   "cell_type": "code",
   "execution_count": null,
   "metadata": {},
   "outputs": [],
   "source": [
    "plot_joint(data=metadata_beauty, x='sqrt_rank', y='rating')"
   ]
  },
  {
   "cell_type": "code",
   "execution_count": null,
   "metadata": {},
   "outputs": [],
   "source": [
    "plot_joint(data=metadata_beauty, x='rank_float', y='rating')"
   ]
  },
  {
   "cell_type": "markdown",
   "metadata": {},
   "source": [
    "### Price vs sales rank and rating"
   ]
  },
  {
   "cell_type": "code",
   "execution_count": null,
   "metadata": {},
   "outputs": [],
   "source": [
    "price_truncated = metadata_beauty.query('price_float < 100')\n",
    "plot_joint(data=price_truncated, x='price_float', y='sqrt_rank')"
   ]
  },
  {
   "cell_type": "code",
   "execution_count": null,
   "metadata": {},
   "outputs": [],
   "source": [
    "price_truncated = metadata_beauty.query('price_float < 100')\n",
    "plot_joint(data=price_truncated, x='price_float', y='rating')"
   ]
  },
  {
   "cell_type": "markdown",
   "metadata": {},
   "source": [
    "### Brand"
   ]
  },
  {
   "cell_type": "code",
   "execution_count": null,
   "metadata": {},
   "outputs": [],
   "source": [
    "brand_counts = metadata_beauty['brand'].value_counts()\n",
    "display(brand_counts[:10])\n",
    "display(brand_counts.iloc[1:].describe())\n",
    "\n",
    "brand_counts_filtered = brand_counts.iloc[1:]\n",
    "brand_counts_filtered = brand_counts_filtered[brand_counts_filtered > 10]\n",
    "fig = plt.figure(figsize=(12, 4))\n",
    "plt.plot(np.arange(len(brand_counts_filtered)), brand_counts_filtered)\n",
    "plt.ylabel('frequency')\n",
    "plt.title('Frequency of occurence for brands, from most to least common')"
   ]
  },
  {
   "cell_type": "markdown",
   "metadata": {},
   "source": [
    "### Title and description"
   ]
  },
  {
   "cell_type": "code",
   "execution_count": null,
   "metadata": {},
   "outputs": [],
   "source": [
    "extract_words(metadata_beauty, 'title');"
   ]
  },
  {
   "cell_type": "code",
   "execution_count": null,
   "metadata": {},
   "outputs": [],
   "source": [
    "extract_words(metadata_beauty, 'description_str', 500);"
   ]
  },
  {
   "cell_type": "markdown",
   "metadata": {},
   "source": [
    "### PCA"
   ]
  },
  {
   "cell_type": "code",
   "execution_count": null,
   "metadata": {},
   "outputs": [],
   "source": []
  }
 ],
 "metadata": {
  "language_info": {
   "name": "python",
   "pygments_lexer": "ipython3"
  }
 },
 "nbformat": 4,
 "nbformat_minor": 4
}
